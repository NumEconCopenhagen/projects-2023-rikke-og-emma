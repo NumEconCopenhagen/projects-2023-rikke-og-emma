{
 "cells": [
  {
   "attachments": {},
   "cell_type": "markdown",
   "metadata": {},
   "source": [
    "# The solow model and the solow model with human capital "
   ]
  },
  {
   "attachments": {},
   "cell_type": "markdown",
   "metadata": {},
   "source": [
    "> **Note the following:** \n",
    "> 1. This is *not* meant to be an example of an actual **model analysis project**, just an example of how to structure such a project.\n",
    "> 1. Remember the general advice on structuring and commenting your code\n",
    "> 1. The `modelproject.py` file includes a function which could be used multiple times in this notebook."
   ]
  },
  {
   "attachments": {},
   "cell_type": "markdown",
   "metadata": {},
   "source": [
    "Imports and set magics:"
   ]
  },
  {
   "cell_type": "code",
   "execution_count": 1,
   "metadata": {},
   "outputs": [],
   "source": [
    "import numpy as np\n",
    "import sympy as sm\n",
    "from scipy import optimize\n",
    "from sympy import Symbol\n",
    "from sympy.solvers import solve\n",
    "from IPython.display import display\n",
    "import matplotlib.pyplot as plt\n",
    "import ipywidgets as widgets\n",
    "\n",
    "# output\n",
    "sm.init_printing(use_unicode=True)\n",
    "\n",
    "# autoreload modules when code is run\n",
    "%load_ext autoreload\n",
    "%autoreload 2\n",
    "\n",
    "# output\n",
    "sm.init_printing(use_unicode=True)\n",
    "\n",
    "# local modules\n",
    "import modelproject"
   ]
  },
  {
   "attachments": {},
   "cell_type": "markdown",
   "metadata": {},
   "source": [
    "# The basic solow Model "
   ]
  },
  {
   "attachments": {},
   "cell_type": "markdown",
   "metadata": {},
   "source": [
    "**Write out the model in equations here.** \n",
    "\n",
    "In the basic solow model we have:\n",
    "\n",
    "$K_t$ as capital\\\n",
    "$L_t$ as labor\\\n",
    "\n",
    "\n",
    "The model also contains\\\n",
    "The GDP\\\n",
    "$Y_t =F(K_t,L_t)$\\\n",
    "$Y_t= B*K_t^\\alpha*L_1^{1-\\alpha}$\\\n",
    "$r_t=\\alpha*B*\\left(\\frac{K_t}{K_t}\\right)$\\\n",
    "$w_t=(1-\\alpha) B\\left(\\frac{K_t}{L_t}\\right)^{\\alpha}$\\\n",
    "The savings\\\n",
    "$S_t=sY_t,s \\in (0,1)$\\\n",
    "$K_{t+1}-K_t=S_t-\\delta K_t$\\\n",
    "where we have: $k_t=S_t+(1-\\delta)K_t$\\\n",
    "$L_{t+1}=(1+n)L_t$\n",
    "\n",
    "In the basic solow model we can use this notation for per capita.\\\n",
    "\n",
    "$y_t=\\left(\\frac{Y_t}{L_t}\\right)$ \n",
    "$k_t=\\left(frac{K_t}{L_t}\\right)$\n",
    "    "
   ]
  },
  {
   "cell_type": "code",
   "execution_count": null,
   "metadata": {},
   "outputs": [],
   "source": []
  },
  {
   "attachments": {},
   "cell_type": "markdown",
   "metadata": {},
   "source": [
    "## Analytical solution"
   ]
  },
  {
   "attachments": {},
   "cell_type": "markdown",
   "metadata": {},
   "source": [
    "If your model allows for an analytical solution, you should provide here.\n",
    "\n",
    "You may use Sympy for this. Then you can characterize the solution as a function of a parameter of the model.\n",
    "\n",
    "To characterize the solution, first derive a steady state equation as a function of a parameter using Sympy.solve and then turn it into a python function by Sympy.lambdify. See the lecture notes for details. "
   ]
  },
  {
   "cell_type": "code",
   "execution_count": null,
   "metadata": {},
   "outputs": [],
   "source": [
    "#define parameter\n",
    "n,s,B,kstar,ystar,alpha,delta=sm.symbols('n s B k k^* y^* alpha delta')\n",
    "\n",
    "#Here we will solve the equation for k\n",
    "Solow_eq = sm.Eq(((s*B*k**alpha-(n + delta)*k)/(1 + n)),0)\n",
    "\n",
    "#Now it is possible to find the steady-state for k \n",
    "k_s=sm.solve(Solow_eq,k)[0]\n",
    "s_s_k=sm.Eq(kstar,k_s)\n",
    "\n",
    "# Define y \n",
    "y=B*k**alpha\n",
    "\n",
    "# Find the steady state for y\n",
    "y_s=y.subs(k,k_s)\n",
    "s_s_y=sm.Eq(ystar,y_s)\n",
    "\n",
    "#"
   ]
  },
  {
   "attachments": {},
   "cell_type": "markdown",
   "metadata": {},
   "source": [
    "## Numerical solution"
   ]
  },
  {
   "attachments": {},
   "cell_type": "markdown",
   "metadata": {},
   "source": [
    "You can always solve a model numerically. \n",
    "\n",
    "Define first the set of parameters you need. \n",
    "\n",
    "Then choose one of the optimization algorithms that we have gone through in the lectures based on what you think is most fitting for your model.\n",
    "\n",
    "Are there any problems with convergence? Does the model converge for all starting values? Make a lot of testing to figure these things out. "
   ]
  },
  {
   "attachments": {},
   "cell_type": "markdown",
   "metadata": {},
   "source": [
    "# Further analysis"
   ]
  },
  {
   "attachments": {},
   "cell_type": "markdown",
   "metadata": {},
   "source": [
    "Make detailed vizualizations of how your model changes with parameter values. \n",
    "\n",
    "Try to make an extension of the model. "
   ]
  },
  {
   "attachments": {},
   "cell_type": "markdown",
   "metadata": {},
   "source": [
    "# Conclusion"
   ]
  },
  {
   "attachments": {},
   "cell_type": "markdown",
   "metadata": {},
   "source": [
    "Add concise conclusion. "
   ]
  }
 ],
 "metadata": {
  "kernelspec": {
   "display_name": "base",
   "language": "python",
   "name": "python3"
  },
  "language_info": {
   "codemirror_mode": {
    "name": "ipython",
    "version": 3
   },
   "file_extension": ".py",
   "mimetype": "text/x-python",
   "name": "python",
   "nbconvert_exporter": "python",
   "pygments_lexer": "ipython3",
   "version": "3.9.10"
  },
  "toc-autonumbering": true,
  "vscode": {
   "interpreter": {
    "hash": "47ef90cdf3004d3f859f1fb202523c65c07ba7c22eefd261b181f4744e2d0403"
   }
  }
 },
 "nbformat": 4,
 "nbformat_minor": 4
}
