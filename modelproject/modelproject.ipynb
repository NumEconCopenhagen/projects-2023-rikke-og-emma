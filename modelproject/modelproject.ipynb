{
 "cells": [
  {
   "attachments": {},
   "cell_type": "markdown",
   "metadata": {},
   "source": [
    "# The solow model and the solow model with human capital "
   ]
  },
  {
   "attachments": {},
   "cell_type": "markdown",
   "metadata": {},
   "source": [
    "> **Note the following:** \n",
    "> 1. This is *not* meant to be an example of an actual **model analysis project**, just an example of how to structure such a project.\n",
    "> 1. Remember the general advice on structuring and commenting your code\n",
    "> 1. The `modelproject.py` file includes a function which could be used multiple times in this notebook."
   ]
  },
  {
   "attachments": {},
   "cell_type": "markdown",
   "metadata": {},
   "source": [
    "Imports and set magics:"
   ]
  },
  {
   "cell_type": "code",
   "execution_count": 133,
   "metadata": {},
   "outputs": [
    {
     "name": "stdout",
     "output_type": "stream",
     "text": [
      "The autoreload extension is already loaded. To reload it, use:\n",
      "  %reload_ext autoreload\n"
     ]
    }
   ],
   "source": [
    "import numpy as np\n",
    "import sympy as sm\n",
    "from scipy import optimize\n",
    "from sympy import Symbol\n",
    "from sympy.solvers import solve\n",
    "from IPython.display import display\n",
    "import matplotlib.pyplot as plt\n",
    "import ipywidgets as widgets\n",
    "\n",
    "# output\n",
    "sm.init_printing(use_unicode=True)\n",
    "\n",
    "# autoreload modules when code is run\n",
    "%load_ext autoreload\n",
    "%autoreload 2\n",
    "\n",
    "# output\n",
    "sm.init_printing(use_unicode=True)\n",
    "\n",
    "# local modules\n",
    "import modelproject"
   ]
  },
  {
   "attachments": {},
   "cell_type": "markdown",
   "metadata": {},
   "source": [
    "# The basic solow Model "
   ]
  },
  {
   "attachments": {},
   "cell_type": "markdown",
   "metadata": {},
   "source": [
    "**Write out the model in equations here.** \n",
    "\n",
    "In the basic solow model we have:\n",
    "\n",
    "$K_t$ as capital\\\n",
    "$L_t$ as labor\\\n",
    "\n",
    "\n",
    "The model also contains\\\n",
    "The GDP\\\n",
    "$Y_t =F(K_t,L_t)$\\\n",
    "$Y_t= B*K_t^\\alpha*L_1^{1-\\alpha}$\\\n",
    "$r_t=\\alpha*B*\\left(\\frac{K_t}{K_t}\\right)$\\\n",
    "$w_t=(1-\\alpha) B\\left(\\frac{K_t}{L_t}\\right)^{\\alpha}$\\\n",
    "The savings\\\n",
    "$S_t=sY_t,s \\in (0,1)$\\\n",
    "$K_{t+1}-K_t=S_t-\\delta K_t$\\\n",
    "where we have: $k_t=S_t+(1-\\delta)K_t$\\\n",
    "$L_{t+1}=(1+n)L_t$\n",
    "\n",
    "In the basic solow model we can use this notation for per capita.\\\n",
    "\n",
    "$y_t=\\left(\\frac{Y_t}{L_t}\\right)$\\\n",
    "$k_t=\\left(\\frac{K_t}{L_t}\\right)$\n",
    "    "
   ]
  },
  {
   "attachments": {},
   "cell_type": "markdown",
   "metadata": {},
   "source": [
    "## Analytical solution"
   ]
  },
  {
   "attachments": {},
   "cell_type": "markdown",
   "metadata": {},
   "source": [
    "If your model allows for an analytical solution, you should provide here.\n",
    "\n",
    "You may use Sympy for this. Then you can characterize the solution as a function of a parameter of the model.\n",
    "\n",
    "To characterize the solution, first derive a steady state equation as a function of a parameter using Sympy.solve and then turn it into a python function by Sympy.lambdify. See the lecture notes for details. "
   ]
  },
  {
   "cell_type": "code",
   "execution_count": 134,
   "metadata": {},
   "outputs": [
    {
     "data": {
      "text/latex": [
       "$\\displaystyle k^{*} = \\left(\\frac{B s}{\\delta + n}\\right)^{- \\frac{1}{\\alpha - 1}}$"
      ],
      "text/plain": [
       "               -1  \n",
       "              ─────\n",
       "              α - 1\n",
       "       ⎛ B⋅s ⎞     \n",
       "k__* = ⎜─────⎟     \n",
       "       ⎝δ + n⎠     "
      ]
     },
     "metadata": {},
     "output_type": "display_data"
    },
    {
     "data": {
      "text/latex": [
       "$\\displaystyle y^{*} = B \\left(\\left(\\frac{B s}{\\delta + n}\\right)^{- \\frac{1}{\\alpha - 1}}\\right)^{\\alpha}$"
      ],
      "text/plain": [
       "                       α\n",
       "         ⎛        -1  ⎞ \n",
       "         ⎜       ─────⎟ \n",
       "         ⎜       α - 1⎟ \n",
       "         ⎜⎛ B⋅s ⎞     ⎟ \n",
       "y__* = B⋅⎜⎜─────⎟     ⎟ \n",
       "         ⎝⎝δ + n⎠     ⎠ "
      ]
     },
     "metadata": {},
     "output_type": "display_data"
    }
   ],
   "source": [
    "#Define parameter and symbols\n",
    "n,s,B,k,kstar,ystar,alpha,delta=sm.symbols('n s B k k^* y^* alpha delta')\n",
    "\n",
    "#Here we will solve the equation for k\n",
    "Solow_eq = sm.Eq(((s*B*k**alpha-(n + delta)*k)/(1 + n)),0)\n",
    "\n",
    "#Now it is possible to find the steady-state for k \n",
    "k_s=sm.solve(Solow_eq,k)[0]\n",
    "s_s_k=sm.Eq(kstar,k_s)\n",
    "\n",
    "# Define y \n",
    "y=B*k**alpha\n",
    "\n",
    "# Find the steady state for y\n",
    "y_s=y.subs(k,k_s)\n",
    "s_s_y=sm.Eq(ystar,y_s)\n",
    "\n",
    "#print equation \n",
    "display(s_s_k)\n",
    "display(s_s_y)"
   ]
  },
  {
   "cell_type": "code",
   "execution_count": 135,
   "metadata": {},
   "outputs": [],
   "source": [
    "#Turn the equation into function in python\n",
    "k_s_f= sm.lambdify((alpha, delta, B, n, s), k_s)"
   ]
  },
  {
   "cell_type": "code",
   "execution_count": 136,
   "metadata": {},
   "outputs": [],
   "source": [
    "#Define the value of the parameteres in the model\n",
    "n= 0.025\n",
    "alpha=1/3\n",
    "delta=0.05\n",
    "s=0.3\n",
    "B=1\n"
   ]
  },
  {
   "cell_type": "code",
   "execution_count": 137,
   "metadata": {},
   "outputs": [
    {
     "name": "stdout",
     "output_type": "stream",
     "text": [
      "k__* = 7.99999999999999\n"
     ]
    }
   ],
   "source": [
    "#The steady state value for k\n",
    "k_s_v = k_s_f(alpha, delta, B, n, s)\n",
    "\n",
    "# Print the steady state value for k with the values of the parameters\n",
    "ss_k_v = sm.Eq(kstar, k_s_v)\n",
    "sm.pprint(ss_k_v)"
   ]
  },
  {
   "attachments": {},
   "cell_type": "markdown",
   "metadata": {},
   "source": [
    "Now it is possible to find the value for y in steady state by using the steady state value for k "
   ]
  },
  {
   "cell_type": "code",
   "execution_count": 138,
   "metadata": {},
   "outputs": [
    {
     "name": "stdout",
     "output_type": "stream",
     "text": [
      "y__* = 2.0\n"
     ]
    }
   ],
   "source": [
    "# The steady-state value for y \n",
    "y_s_v = B * k_s_v**alpha\n",
    "\n",
    "# Print the steady state value for y with the values of the parameters\n",
    "ss_y_e = sm.Eq(ystar, y_s_v)\n",
    "sm.pprint(ss_y_e)"
   ]
  },
  {
   "attachments": {},
   "cell_type": "markdown",
   "metadata": {},
   "source": [
    "## Numerical solution"
   ]
  },
  {
   "attachments": {},
   "cell_type": "markdown",
   "metadata": {},
   "source": [
    "You can always solve a model numerically. \n",
    "\n",
    "Define first the set of parameters you need. \n",
    "\n",
    "Then choose one of the optimization algorithms that we have gone through in the lectures based on what you think is most fitting for your model.\n",
    "\n",
    "Are there any problems with convergence? Does the model converge for all starting values? Make a lot of testing to figure these things out. "
   ]
  },
  {
   "cell_type": "code",
   "execution_count": 139,
   "metadata": {},
   "outputs": [
    {
     "name": "stdout",
     "output_type": "stream",
     "text": [
      "k* = 8.000\n"
     ]
    }
   ],
   "source": [
    "def solow_s_s_k(n: float, s: float, B: float, alpha: float, delta: float) -> float:\n",
    "    \"\"\"\n",
    "    Finds the solow steady state for capital by using the bisect optimizer from module Scipy\n",
    "\n",
    "    Args :\n",
    "    alpha: Output elasticity wrt capital\n",
    "    delta: Physical capital depreciation rate\n",
    "    s    : Savings rate\n",
    "    n    : Population growth\n",
    "    B    : Productivity parameter\n",
    "    \"\"\"\n",
    "\n",
    "    # The solow euqation\n",
    "    solow_eq = lambda k: s * B * k**alpha - (n + delta) * k\n",
    "    \n",
    "    # optimize\n",
    "    return optimize.bisect(solow_eq, 1, 100)\n",
    "\n",
    "k_star = solow_s_s_k(n, s, B, alpha, delta)\n",
    "print(f'k* = {k_star:.3f}')"
   ]
  },
  {
   "cell_type": "code",
   "execution_count": 140,
   "metadata": {},
   "outputs": [
    {
     "data": {
      "application/vnd.jupyter.widget-view+json": {
       "model_id": "a228f94d154c492d94751c9c8ab02f0b",
       "version_major": 2,
       "version_minor": 0
      },
      "text/plain": [
       "interactive(children=(FloatSlider(value=0.01, description='n', layout=Layout(width='50%'), max=0.1, min=0.01, …"
      ]
     },
     "metadata": {},
     "output_type": "display_data"
    },
    {
     "data": {
      "text/plain": [
       "<function __main__.plot_solow_diagram(k: int, n: float, s: float, B: int, alpha: float, delta: float, kt_xmax: int, kt_vline: float)>"
      ]
     },
     "execution_count": 140,
     "metadata": {},
     "output_type": "execute_result"
    }
   ],
   "source": [
    "# Define function to plot Solow diagram\n",
    "def plot_solow_diagram(k: int, n: float, s: float, B: int, alpha: float, delta: float, kt_xmax: int, kt_vline: float):\n",
    "    # Calculate the growth rates of capital per capita and the diagonal line\n",
    "    k_growth = [s * B * t**alpha for t in range(kt_xmax + 1)]\n",
    "    diagonal = [(n + delta) * t for t in range(kt_xmax + 1)]\n",
    "\n",
    "    # Calculate steady state capital per capita\n",
    "    k_star = ((s*B)/(n+delta))**(1/(1-alpha))\n",
    "\n",
    "    # Configure plot settings\n",
    "    plt.rcParams['axes.facecolor'] = 'white'\n",
    "    plt.figure(figsize=(8, 6))\n",
    "    plt.plot(k_growth, label=r'$sBk_t^{\\alpha}$', color='darkorange')\n",
    "    plt.plot(diagonal, label=r'$(n+\\delta)k_t$', color='black')\n",
    "    plt.axvline(x=k_star, linestyle='--', color='red', label=r'$k*$')\n",
    "    plt.axvline(x=kt_vline, linestyle='--', color='green', label=r'$k_t$')\n",
    "    plt.xlim(0, kt_xmax)\n",
    "    plt.xlabel('Capital per capita, $k_t$')\n",
    "    plt.ylabel('')\n",
    "    plt.legend()\n",
    "    plt.title('Figure 1: Solow Diagram')\n",
    "    plt.grid(True)  # add grid\n",
    "    \n",
    "    # Add arrows to the plot\n",
    "    arrow_len = abs(k_star - kt_vline)\n",
    "    arrow_positions = [0.3, 0.6, 0.8, 0.9, 0.95, 1]\n",
    "    \n",
    "    # If kt_vline is to the left of k_star, flip the direction of the arrows\n",
    "    if kt_vline < k_star:\n",
    "        arrow_len = -arrow_len\n",
    "        arrow_positions = [1 - pos for pos in arrow_positions]\n",
    "    else:\n",
    "        arrow_positions = [1 - pos for pos in arrow_positions]\n",
    "    \n",
    "    arrow_center = min(k_star, kt_vline) + abs(arrow_len) / 2\n",
    "    \n",
    "    # Add each arrow to the plot\n",
    "    for pos in arrow_positions:\n",
    "        arrow_x = arrow_center + arrow_len * (pos - 0.5)\n",
    "        plt.annotate(\n",
    "            '',\n",
    "            xy=(kt_vline, 0), xycoords='data',\n",
    "            xytext=(arrow_x, 0), textcoords='data',\n",
    "            arrowprops=dict(\n",
    "                arrowstyle=\"<-\", color=\"black\", lw=1, mutation_scale=15\n",
    "            )\n",
    "        )\n",
    "\n",
    "    # print plot\n",
    "    plt.show()\n",
    "\n",
    "# Create an interactive widget to display the Solow diagram\n",
    "widgets.interact(\n",
    "    plot_solow_diagram,\n",
    "    k=widgets.fixed(0),\n",
    "    alpha=widgets.FloatSlider(description=r'α', min=0, max=0.9, step=0.05, value=0.3, layout=widgets.Layout(width='50%')),\n",
    "    delta=widgets.FloatSlider(description=r'δ', min=0, max=0.1, step=0.01, value=0.01, layout=widgets.Layout(width='50%')),\n",
    "    s=widgets.FloatSlider(description='s', min=0.01, max=0.8, step=0.05, value=0.4, layout=widgets.Layout(width='50%')),\n",
    "    n=widgets.FloatSlider(description='n', min=0.01, max=0.1, step=0.005, value=0.01, layout=widgets.Layout(width='50%')),\n",
    "    B=widgets.fixed(1),\n",
    "    kt_xmax=widgets.IntSlider(description='k_t axis', min=1, max=100, step=10, value=100, layout=widgets.Layout(width='50%')),\n",
    "    kt_vline=widgets.FloatSlider(description='k_t', min=0, max=100, step=0.1, value=20, layout=widgets.Layout(width='50%'))\n",
    ")"
   ]
  },
  {
   "attachments": {},
   "cell_type": "markdown",
   "metadata": {},
   "source": [
    "The plot shows how different parameter values changes the steady state. The savings rate and the alpha parameter affects the steady state positively, while population growth and the depriciation rate affects the steady state negatively. "
   ]
  },
  {
   "attachments": {},
   "cell_type": "markdown",
   "metadata": {},
   "source": [
    "# Solow Model with Human Capital"
   ]
  },
  {
   "cell_type": "code",
   "execution_count": 141,
   "metadata": {},
   "outputs": [],
   "source": [
    "n,g,s_k,s_h,k,h,alpha,phi,delta=sm.symbols('n g s_k s_h k h alpha phi delta')"
   ]
  },
  {
   "cell_type": "code",
   "execution_count": 142,
   "metadata": {},
   "outputs": [
    {
     "data": {
      "text/latex": [
       "$\\displaystyle \\frac{h^{\\phi} k^{\\alpha} s_{k} + k \\left(1 - \\delta\\right)}{\\left(g + 1\\right) \\left(n + 1\\right)} = k$"
      ],
      "text/plain": [
       " φ  α                   \n",
       "h ⋅k ⋅sₖ + k⋅(1 - δ)    \n",
       "──────────────────── = k\n",
       "  (g + 1)⋅(n + 1)       "
      ]
     },
     "execution_count": 142,
     "metadata": {},
     "output_type": "execute_result"
    }
   ],
   "source": [
    "#the steady state \n",
    "ss1 = sm.Eq((s_k*k**alpha*h**phi+(1-delta)*k)/((1+n)*(1+g)), k)\n",
    "ss2 = sm.Eq((s_h*k**alpha*h**phi+(1-delta)*h)/((1+n)*(1+g)), h)\n",
    "ss1"
   ]
  },
  {
   "cell_type": "code",
   "execution_count": 143,
   "metadata": {},
   "outputs": [
    {
     "data": {
      "text/latex": [
       "$\\displaystyle \\frac{h^{\\phi} k^{\\alpha} s_{k} + k \\left(1 - \\delta\\right)}{\\left(g + 1\\right) \\left(n + 1\\right)} = k$"
      ],
      "text/plain": [
       " φ  α                   \n",
       "h ⋅k ⋅sₖ + k⋅(1 - δ)    \n",
       "──────────────────── = k\n",
       "  (g + 1)⋅(n + 1)       "
      ]
     },
     "execution_count": 143,
     "metadata": {},
     "output_type": "execute_result"
    }
   ],
   "source": [
    "#The steady state for k\n",
    "\n",
    "ss_k = sm.Eq((s_k*k**alpha*h**phi+(1-delta)*k)/((1+n)*(1+g)), k) \n",
    "ss_k\n",
    "\n",
    "\n"
   ]
  },
  {
   "cell_type": "code",
   "execution_count": 144,
   "metadata": {},
   "outputs": [
    {
     "data": {
      "text/latex": [
       "$\\displaystyle \\frac{h \\left(1 - \\delta\\right) + h^{\\phi} k^{\\alpha} s_{h}}{\\left(g + 1\\right) \\left(n + 1\\right)} = h$"
      ],
      "text/plain": [
       "             φ  α       \n",
       "h⋅(1 - δ) + h ⋅k ⋅sₕ    \n",
       "──────────────────── = h\n",
       "  (g + 1)⋅(n + 1)       "
      ]
     },
     "execution_count": 144,
     "metadata": {},
     "output_type": "execute_result"
    }
   ],
   "source": [
    "#The steady state for h\n",
    "ss_h = sm.Eq((s_h*k**alpha*h**phi+(1-delta)*h)/((1+n)*(1+g)), h)\n",
    "ss_h\n"
   ]
  },
  {
   "cell_type": "code",
   "execution_count": 145,
   "metadata": {},
   "outputs": [
    {
     "data": {
      "text/latex": [
       "$\\displaystyle \\left\\{ h : \\frac{h^{\\phi} k^{\\alpha} s_{h}}{\\delta + g n + g + n}, \\  k : \\frac{h^{\\phi} k^{\\alpha} s_{k}}{\\delta + g n + g + n}\\right\\}$"
      ],
      "text/plain": [
       "⎧        φ  α                φ  α      ⎫\n",
       "⎪       h ⋅k ⋅sₕ            h ⋅k ⋅sₖ   ⎪\n",
       "⎨h: ───────────────, k: ───────────────⎬\n",
       "⎪   δ + g⋅n + g + n     δ + g⋅n + g + n⎪\n",
       "⎩                                      ⎭"
      ]
     },
     "execution_count": 145,
     "metadata": {},
     "output_type": "execute_result"
    }
   ],
   "source": [
    "#Finding steady state for physical and human capital:\n",
    "sss_k= sm.solve((ss_k, ss_h),(k,h), implicit = True, manual = True)\n",
    "sss_k\n"
   ]
  },
  {
   "cell_type": "code",
   "execution_count": 146,
   "metadata": {},
   "outputs": [],
   "source": [
    "#Solution as a Python function:\n",
    "ss_func = sm.lambdify((s_h,s_k,g,n,alpha,phi,delta,h,k),sss_k)\n"
   ]
  },
  {
   "cell_type": "code",
   "execution_count": 147,
   "metadata": {},
   "outputs": [],
   "source": [
    "#Define the value of the parameteres in the model\n",
    "n= 0.01\n",
    "g=0.02\n",
    "alpha=1/3\n",
    "delta=0.06\n",
    "phi=1/3\n",
    "s_k=0.1\n",
    "s_h=0.1\n"
   ]
  },
  {
   "cell_type": "code",
   "execution_count": 148,
   "metadata": {},
   "outputs": [],
   "source": [
    "#Defining function for Human capital: \n",
    "def solow_h_function(k: float, s_h:float, s_k: float, g:float, n: float, alpha: float, delta: float, phi: float, h: float) -> float:\n",
    "    \"\"\"\n",
    "    Finds the solow steady state for capital by using the bisect optimizer from module Scipy\n",
    "\n",
    "    Args :\n",
    "    alpha: Return on physical capital\n",
    "    phi  : Reuturn on human capital\n",
    "    delta: Depreciation rate\n",
    "    s_h  : Human capital investments\n",
    "    s_k  : Psycial capital investments\n",
    "    n    : Population growth\n",
    "    g    : Technology growth\n",
    "    k    : Physical capital\n",
    "    h    : Human capital\n",
    "    \"\"\"\n",
    "\n",
    "    #Returning transition equation for human capital:\n",
    "\n",
    "    return 1/((1+n)*(1+g))*(s_h*k**(alpha)*h**(phi)+(1-delta)*h)-h\n",
    "\n"
   ]
  },
  {
   "cell_type": "code",
   "execution_count": 149,
   "metadata": {},
   "outputs": [],
   "source": [
    "#Defining function for Physical capital: \n",
    "def solow_k_function(h: float, s_h:float, s_k: float, g:float, n: float, alpha: float, delta: float, phi: float, k: float) -> float:\n",
    "    \"\"\"\n",
    "    Finds the solow steady state for capital by using the bisect optimizer from module Scipy\n",
    "\n",
    "    Args :\n",
    "    alpha: Return on physical capital\n",
    "    phi  : Reuturn on human capital\n",
    "    delta: Depreciation rate\n",
    "    s_h  : Human capital investments\n",
    "    s_k  : Psycial capital investments\n",
    "    n    : Population growth\n",
    "    g    : Technology growth\n",
    "    k    : Physical capital\n",
    "    h    : Human capital\n",
    "    \"\"\"\n",
    "\n",
    "    #Returning transition equation for physical capital:\n",
    "\n",
    "    return 1/((1+n)*(1+g))*(s_k*k**(alpha)*h**(phi)+(1-delta)*k)-k\n"
   ]
  },
  {
   "cell_type": "code",
   "execution_count": 150,
   "metadata": {},
   "outputs": [],
   "source": [
    "#Defining function for Human capital and Physical capital functions, together with vectors in place of the endogenous variables\n",
    "func = lambda x: [solow_h_function(x[1],s_h,s_k,g,n,alpha,phi,delta,x[0]),solow_k_function(x[0],s_h,s_k,g,n,alpha,phi,delta,x[1])]\n"
   ]
  },
  {
   "cell_type": "code",
   "execution_count": 151,
   "metadata": {},
   "outputs": [],
   "source": [
    "#Solving the vector functions:\n",
    "solution = optimize.root(func,[1,1],method = 'broyden1')\n"
   ]
  },
  {
   "cell_type": "code",
   "execution_count": 152,
   "metadata": {},
   "outputs": [
    {
     "name": "stdout",
     "output_type": "stream",
     "text": [
      "Numerical solution is: k* = 0.119, h* = 0.119\n"
     ]
    }
   ],
   "source": [
    "#The numerical solution:\n",
    "NumericalSolution = solution.x\n",
    "\n",
    "print(f'Numerical solution is: k* = {NumericalSolution[1]:.3f}, h* = {NumericalSolution[0]:.3f}')\n"
   ]
  },
  {
   "attachments": {},
   "cell_type": "markdown",
   "metadata": {},
   "source": [
    "Phase diagram"
   ]
  },
  {
   "cell_type": "code",
   "execution_count": 153,
   "metadata": {},
   "outputs": [],
   "source": [
    "#Function expressing the nullclines: \n",
    "def ss_0(s_h:float, s_k: float, g:float, n: float, alpha: float, delta: float, phi: float) -> float:\n",
    "    \"\"\"\n",
    "\n",
    "    Args :\n",
    "    alpha: Return on physical capital\n",
    "    phi  : Return on human capital\n",
    "    delta: Depreciation rate\n",
    "    s_h  : Human capital investments\n",
    "    s_k  : Psycial capital investments\n",
    "    n    : Population growth\n",
    "    g    : Technology growth\n",
    "    h    : Human capital\n",
    "    k    : Physical capital\n",
    "\n",
    "    Returns:\n",
    "    Nullclines for physical and human capital\n",
    "    \"\"\"\n",
    "    \n",
    "    # a. grids\n",
    "    k_vec = np.linspace(1e-4,3,500)\n",
    "    h_vec_DeltaK0 = np.empty(500)\n",
    "    h_vec_DeltaH0  = np.empty(500)\n",
    "\n",
    "    # b. solve for each k in grid\n",
    "    for i,k in enumerate(k_vec):\n",
    "        #Solve for delta_h=0\n",
    "        \n",
    "        # i. objective\n",
    "        obj = lambda h: -solow_h_function(k,s_h,s_k,g,n,alpha,phi,delta,h)\n",
    "        # ii. optimizer\n",
    "        result = optimize.root_scalar(obj,method='brentq',bracket=[1e-20,50])\n",
    "        \n",
    "        h_vec_DeltaH0[i] = result.root\n",
    "\n",
    "       \n",
    "        #Solve for delta_k=0\n",
    "        # i. objective\n",
    "        obj = lambda h: -solow_k_function(h,s_h,s_k,g,n,alpha,phi,delta,k)\n",
    "\n",
    "        # ii. optimizer\n",
    "        result = optimize.root_scalar(obj,method='brentq',bracket=[1e-20,50])\n",
    "\n",
    "        h_vec_DeltaK0[i] = result.root\n",
    "\n",
    "    return k_vec, h_vec_DeltaK0, h_vec_DeltaH0\n",
    "\n",
    "#Solve the function\n",
    "k_vec, h_vec_DeltaK0, h_vec_DeltaH0 = ss_0(s_h,s_k,g,n,alpha,phi,delta)\n"
   ]
  },
  {
   "cell_type": "code",
   "execution_count": 172,
   "metadata": {},
   "outputs": [
    {
     "data": {
      "image/png": "[encoded data removed]",
      "text/plain": [
       "<Figure size 1300x500 with 1 Axes>"
      ]
     },
     "metadata": {},
     "output_type": "display_data"
    }
   ],
   "source": [
    "#Create the plot\n",
    "fig = plt.figure(figsize=(13,5))\n",
    "ax = fig.add_subplot(1,2,1)\n",
    "ax.plot(k_vec,h_vec_DeltaK0, label=r'$\\Delta \\tilde{k}=0$', c='#005c2b')\n",
    "ax.plot(k_vec,h_vec_DeltaH0, label=r'$\\Delta \\tilde{h}=0$', c='#61ba89')\n",
    "ax.set_xlabel(r'$\\tilde{k}$')\n",
    "ax.set_ylabel(r'$\\tilde{h}$')\n",
    "ax.legend() \n",
    "\n",
    "#We mark the steady state\n",
    "#plt.scatter(sol.x[1],sol.x[0],color='black',s=80,zorder=2.5)\n",
    "\n",
    "ax.set_title('Phase diagram');\n"
   ]
  },
  {
   "attachments": {},
   "cell_type": "markdown",
   "metadata": {},
   "source": [
    "# Policy experiement: Permanently increasing the investment rate in human capital $s_H$"
   ]
  },
  {
   "cell_type": "code",
   "execution_count": 162,
   "metadata": {},
   "outputs": [],
   "source": [
    "from matplotlib.lines import Line2D"
   ]
  },
  {
   "cell_type": "code",
   "execution_count": 175,
   "metadata": {},
   "outputs": [
    {
     "data": {
      "application/vnd.jupyter.widget-view+json": {
       "model_id": "dce917d0054e499bbd2930e1a43c8573",
       "version_major": 2,
       "version_minor": 0
      },
      "text/plain": [
       "interactive(children=(FloatSlider(value=0.3, description='s_k', max=0.9, min=0.1, step=0.01), FloatSlider(valu…"
      ]
     },
     "metadata": {},
     "output_type": "display_data"
    }
   ],
   "source": [
    "\n",
    "\n",
    "def plot_combinations_new(s_k, s_h, alpha, phi, n, g, delta):\n",
    "    # steady state expressions to find intersections (such that they can be plotted)\n",
    "    ktilde_ss = ((s_k ** (1 - phi) * s_h ** phi) / (n + g + delta + n * g)) ** (1 / (1 - alpha - phi))\n",
    "    htilde_ss = ((s_k ** alpha * s_h ** (1 - alpha)) / (n + g + delta + n * g)) ** (1 / (1 - alpha - phi))\n",
    "    ktildenew_ss = ((s_k ** (1 - phi) * (s_h * 1.3) ** phi) / (n + g + delta + n * g)) ** (1 / (1 - alpha - phi))\n",
    "    htildenew_ss = ((s_k ** alpha * (s_h * 1.3) ** (1 - alpha)) / (n + g + delta + n * g)) ** (1 / (1 - alpha - phi))\n",
    "    \n",
    "    # create grids\n",
    "    ktilde_values = np.linspace(0.01, 2 * ktilde_ss, 100)\n",
    "    htilde_values = np.linspace(0.01, 2 * htilde_ss, 100)\n",
    "    Ktilde, Htilde = np.meshgrid(ktilde_values, htilde_values)\n",
    "    \n",
    "    # create null-clines for ktilde and htilde\n",
    "    delta_ktilde = (1 / ((1 + n) * (1 + g))) * (s_k * Ktilde ** alpha * Htilde ** phi - (n + g + delta + n * g) * Ktilde)\n",
    "    delta_htilde = (1 / ((1 + n) * (1 + g))) * (s_h * Ktilde ** alpha * Htilde ** phi - (n + g + delta + n * g) * Htilde)\n",
    "    delta_htildenew = (1 / ((1 + n) * (1 + g))) * (s_h * 1.3 * Ktilde ** alpha * Htilde ** phi - (n + g + delta + n * g) * Htilde)\n",
    "\n",
    "    # The elements in the plot\n",
    "    plt.figure(figsize=(8, 8))\n",
    "    plt.contour(Ktilde, Htilde, delta_ktilde, levels=[0], colors=['blue'])\n",
    "    plt.contour(Ktilde, Htilde, delta_htilde, levels=[0], colors=['red']) \n",
    "    plt.contour(Ktilde, Htilde, delta_htildenew, levels=[0], colors=['purple']) \n",
    "    plt.plot([],[],[])\n",
    "    \n",
    "    #Initial equilibrium steady state\n",
    "    plt.scatter(ktilde_ss, htilde_ss, color='green', marker='o', zorder=3)\n",
    "    plt.annotate(\"E1\", (ktilde_ss, htilde_ss), textcoords=\"offset points\", xytext=(-10, 5), fontsize=12, color='green', zorder=3)\n",
    "    \n",
    "    #New equilibriumsteady state\n",
    "    plt.scatter(ktildenew_ss, htildenew_ss, color='green', marker='o', zorder=3)\n",
    "    plt.annotate(\"E2\", (ktildenew_ss, htildenew_ss), textcoords=\"offset points\", xytext=(-10, 5), fontsize=12, color='green', zorder=3)\n",
    "\n",
    "    # Plot making with labels and titels\n",
    "    plt.xlabel('$\\~{k}_t$')\n",
    "    plt.ylabel('$\\~{h}_t$')\n",
    "    plt.title('Figure x: Increase in investment rate in human capital')\n",
    "\n",
    "    # Legend\n",
    "    custom_lines = [Line2D([0], [0], color=\"blue\", lw=4),\n",
    "                    Line2D([0], [0], color=\"red\", lw=4),\n",
    "                    Line2D([0], [0], color=\"purple\", lw=4),\n",
    "                    Line2D([0], [0], marker='o', color=\"green\", markersize=10),\n",
    "                    Line2D([0], [0], marker='o', color=\"green\", markersize=10)]\n",
    "\n",
    "        \n",
    "    plt.legend(custom_lines, ['$\\Delta k_t=0$', '$\\Delta h_t=0$','$\\Delta h^{new}_t=0$', 'Equilibrium 1', 'Equilibrium 2'])\n",
    "\n",
    "    # The boards ind the plot\n",
    "    plt.xlim(0, 50)\n",
    "    plt.ylim(0, 50)\n",
    "\n",
    "    # Plot \n",
    "    plt.grid()\n",
    "    plt.show()\n",
    "\n",
    "# starting creating sliders for the interactive plot\n",
    "\n",
    "s_k_slider = widgets.FloatSlider(min=0.1, max=0.9, step=0.01, value=0.3, description=r's_k')\n",
    "s_h_slider = widgets.FloatSlider(min=0.1, max=0.9, step=0.01, value=0.3, description=r's_h')\n",
    "alpha_slider =widgets.FloatSlider(min=0, max=0.5, step=0.01, value=0.3, description=r'α')\n",
    "phi_slider = widgets.FloatSlider(min=0, max=0.5, step=0.01, value=0.3, description=r'$\\varphi$')\n",
    "n_slider = widgets.FloatSlider(min=0, max=0.1, step=0.001, value=0.01, description=r'n')\n",
    "g_slider = widgets.FloatSlider(min=0, max=0.1, step=0.001, value=0.02, description=r'g')\n",
    "delta_slider = widgets.FloatSlider(min=0, max=0.1, step=0.001, value=0.05, description=r'δ')\n",
    "\n",
    "\n",
    "# Print the interactive plot\n",
    "widgets.interact(plot_combinations_new, s_k=s_k_slider, s_h=s_h_slider, alpha=alpha_slider, phi=phi_slider, n=n_slider, g=g_slider, delta=delta_slider);"
   ]
  },
  {
   "attachments": {},
   "cell_type": "markdown",
   "metadata": {},
   "source": [
    "# Conclusion"
   ]
  },
  {
   "attachments": {},
   "cell_type": "markdown",
   "metadata": {},
   "source": [
    "Add concise conclusion. "
   ]
  }
 ],
 "metadata": {
  "kernelspec": {
   "display_name": "base",
   "language": "python",
   "name": "python3"
  },
  "language_info": {
   "codemirror_mode": {
    "name": "ipython",
    "version": 3
   },
   "file_extension": ".py",
   "mimetype": "text/x-python",
   "name": "python",
   "nbconvert_exporter": "python",
   "pygments_lexer": "ipython3",
   "version": "3.9.16"
  },
  "toc-autonumbering": true,
  "vscode": {
   "interpreter": {
    "hash": "47ef90cdf3004d3f859f1fb202523c65c07ba7c22eefd261b181f4744e2d0403"
   }
  }
 },
 "nbformat": 4,
 "nbformat_minor": 4
}
