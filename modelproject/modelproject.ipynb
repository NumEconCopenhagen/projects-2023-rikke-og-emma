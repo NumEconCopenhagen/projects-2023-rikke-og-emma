{
 "cells": [
  {
   "attachments": {},
   "cell_type": "markdown",
   "metadata": {},
   "source": [
    "# The solow model and the solow model with human capital "
   ]
  },
  {
   "attachments": {},
   "cell_type": "markdown",
   "metadata": {},
   "source": [
    "Imports and set magics:"
   ]
  },
  {
   "cell_type": "code",
   "execution_count": 1,
   "metadata": {},
   "outputs": [],
   "source": [
    "import numpy as np\n",
    "import sympy as sm\n",
    "from scipy import optimize\n",
    "from sympy import Symbol\n",
    "from sympy.solvers import solve\n",
    "from IPython.display import display\n",
    "import matplotlib.pyplot as plt\n",
    "import ipywidgets as widgets\n",
    "\n",
    "# output\n",
    "sm.init_printing(use_unicode=True)\n",
    "\n",
    "# autoreload modules when code is run\n",
    "%load_ext autoreload\n",
    "%autoreload 2\n",
    "\n",
    "# output\n",
    "sm.init_printing(use_unicode=True)\n",
    "\n",
    "# local modules\n",
    "import modelproject"
   ]
  },
  {
   "attachments": {},
   "cell_type": "markdown",
   "metadata": {},
   "source": [
    "# The basic solow Model "
   ]
  },
  {
   "attachments": {},
   "cell_type": "markdown",
   "metadata": {},
   "source": [
    "\n",
    "\n",
    "In the basic solow model we have:\n",
    "\n",
    "$K_t$ as capital\\\n",
    "$L_t$ as labor\\\n",
    "\n",
    "\n",
    "The model also contains\n",
    "The GDP\\\n",
    "$Y_t =F(K_t,L_t)$\\\n",
    "$Y_t= B*K_t^\\alpha*L_1^{1-\\alpha}$\\\n",
    "$r_t=\\alpha*B*\\left(\\frac{K_t}{K_t}\\right)$\\\n",
    "$w_t=(1-\\alpha) B\\left(\\frac{K_t}{L_t}\\right)^{\\alpha}$\\\n",
    "The savings\\\n",
    "$S_t=sY_t,s \\in (0,1)$\\\n",
    "$K_{t+1}-K_t=S_t-\\delta K_t$\\\n",
    "where we have: $k_t=S_t+(1-\\delta)K_t$\\\n",
    "$L_{t+1}=(1+n)L_t$\n",
    "\n",
    "In the basic solow model we can use this notation for per capita.\n",
    "\n",
    "$y_t=\\left(\\frac{Y_t}{L_t}\\right)$\\\n",
    "$k_t=\\left(\\frac{K_t}{L_t}\\right)$\n",
    "    "
   ]
  },
  {
   "attachments": {},
   "cell_type": "markdown",
   "metadata": {},
   "source": [
    "## Analytical solution"
   ]
  },
  {
   "attachments": {},
   "cell_type": "markdown",
   "metadata": {},
   "source": [
    "First we will solove the basic solow model analytically. We will do it out from the solution for the steady state, where we have the capital is constant, in the order to do this we set the solow equation to zero and thus find k. After this it is possible to finding the steady state in an analitical equation for $k^*$. Now we can use the notation for $y_t={Y_t}/{L_t}$ and insert the fund value of $k^*$ and from this we will get the steady state for ${GDP}/{worker}$\n"
   ]
  },
  {
   "cell_type": "code",
   "execution_count": 2,
   "metadata": {},
   "outputs": [
    {
     "data": {
      "text/latex": [
       "$\\displaystyle k^{*} = \\left(\\frac{B s}{\\delta + n}\\right)^{- \\frac{1}{\\alpha - 1}}$"
      ],
      "text/plain": [
       "               -1  \n",
       "              ─────\n",
       "              α - 1\n",
       "       ⎛ B⋅s ⎞     \n",
       "k__* = ⎜─────⎟     \n",
       "       ⎝δ + n⎠     "
      ]
     },
     "metadata": {},
     "output_type": "display_data"
    },
    {
     "data": {
      "text/latex": [
       "$\\displaystyle y^{*} = B \\left(\\left(\\frac{B s}{\\delta + n}\\right)^{- \\frac{1}{\\alpha - 1}}\\right)^{\\alpha}$"
      ],
      "text/plain": [
       "                       α\n",
       "         ⎛        -1  ⎞ \n",
       "         ⎜       ─────⎟ \n",
       "         ⎜       α - 1⎟ \n",
       "         ⎜⎛ B⋅s ⎞     ⎟ \n",
       "y__* = B⋅⎜⎜─────⎟     ⎟ \n",
       "         ⎝⎝δ + n⎠     ⎠ "
      ]
     },
     "metadata": {},
     "output_type": "display_data"
    }
   ],
   "source": [
    "#Define parameter and symbols\n",
    "n,s,B,k,kstar,ystar,alpha,delta=sm.symbols('n s B k k^* y^* alpha delta')\n",
    "\n",
    "#Here we will solve the equation for k\n",
    "Solow_eq = sm.Eq(((s*B*k**alpha-(n + delta)*k)/(1 + n)),0)\n",
    "\n",
    "#Now it is possible to find the steady-state for k \n",
    "k_s=sm.solve(Solow_eq,k)[0]\n",
    "s_s_k=sm.Eq(kstar,k_s)\n",
    "\n",
    "# Define y \n",
    "y=B*k**alpha\n",
    "\n",
    "# Find the steady state for y\n",
    "y_s=y.subs(k,k_s)\n",
    "s_s_y=sm.Eq(ystar,y_s)\n",
    "\n",
    "#print equation for k* and y*  \n",
    "display(s_s_k)\n",
    "display(s_s_y)"
   ]
  },
  {
   "attachments": {},
   "cell_type": "markdown",
   "metadata": {},
   "source": [
    "This is the steady state $k^*$ and $y^*$"
   ]
  },
  {
   "cell_type": "code",
   "execution_count": 3,
   "metadata": {},
   "outputs": [],
   "source": [
    "#Function in python\n",
    "k_s_f= sm.lambdify((alpha, delta, B, n, s), k_s)"
   ]
  },
  {
   "attachments": {},
   "cell_type": "markdown",
   "metadata": {},
   "source": [
    "For Findning the steady state value of $k^*$ and $y^*$ we must define our paremeters in the basic solow model."
   ]
  },
  {
   "cell_type": "code",
   "execution_count": 4,
   "metadata": {},
   "outputs": [],
   "source": [
    "#Define the value of the parameteres in the model\n",
    "n= 0.025\n",
    "alpha=1/3\n",
    "delta=0.05\n",
    "s=0.3\n",
    "B=1"
   ]
  },
  {
   "cell_type": "code",
   "execution_count": 5,
   "metadata": {},
   "outputs": [
    {
     "name": "stdout",
     "output_type": "stream",
     "text": [
      "k__* = 7.99999999999999\n"
     ]
    }
   ],
   "source": [
    "#The steady state value for k\n",
    "k_s_v = k_s_f(alpha, delta, B, n, s)\n",
    "\n",
    "# Print the steady state value for k with the values of the parameters\n",
    "ss_k_v = sm.Eq(kstar, k_s_v)\n",
    "sm.pprint(ss_k_v)"
   ]
  },
  {
   "attachments": {},
   "cell_type": "markdown",
   "metadata": {},
   "source": [
    "Now it is possible to find the value for y in steady state by using the steady state value for k "
   ]
  },
  {
   "cell_type": "code",
   "execution_count": 6,
   "metadata": {},
   "outputs": [
    {
     "name": "stdout",
     "output_type": "stream",
     "text": [
      "y__* = 2.0\n"
     ]
    }
   ],
   "source": [
    "# The steady-state value for y \n",
    "y_s_v = B * k_s_v**alpha\n",
    "\n",
    "# Print the steady state value for y with the values of the parameters\n",
    "ss_y_e = sm.Eq(ystar, y_s_v)\n",
    "sm.pprint(ss_y_e)"
   ]
  },
  {
   "attachments": {},
   "cell_type": "markdown",
   "metadata": {},
   "source": [
    "## Numerical solution"
   ]
  },
  {
   "cell_type": "code",
   "execution_count": 7,
   "metadata": {},
   "outputs": [
    {
     "name": "stdout",
     "output_type": "stream",
     "text": [
      "k* = 8.000\n"
     ]
    }
   ],
   "source": [
    "def solow_s_s_k(n: float, s: float, B: float, alpha: float, delta: float) -> float:\n",
    "    \"\"\"\n",
    "    Finds the solow steady state for capital by using the bisect optimizer from module Scipy\n",
    "\n",
    "    Args :\n",
    "    alpha: Output elasticity wrt capital\n",
    "    delta: Physical capital depreciation rate\n",
    "    s    : Savings rate\n",
    "    n    : Population growth\n",
    "    B    : Productivity parameter\n",
    "    \"\"\"\n",
    "\n",
    "    # The solow euqation\n",
    "    solow_eq = lambda k: s * B * k**alpha - (n + delta) * k\n",
    "    \n",
    "    # optimize\n",
    "    return optimize.bisect(solow_eq, 1, 100)\n",
    "\n",
    "k_star = solow_s_s_k(n, s, B, alpha, delta)\n",
    "print(f'k* = {k_star:.3f}')\n"
   ]
  },
  {
   "cell_type": "code",
   "execution_count": 30,
   "metadata": {},
   "outputs": [
    {
     "data": {
      "application/vnd.jupyter.widget-view+json": {
       "model_id": "ff7d99b203124512848369f56bfec160",
       "version_major": 2,
       "version_minor": 0
      },
      "text/plain": [
       "interactive(children=(FloatSlider(value=0.01, description='n', layout=Layout(width='50%'), max=0.1, min=0.01, …"
      ]
     },
     "metadata": {},
     "output_type": "display_data"
    },
    {
     "data": {
      "text/plain": [
       "<function __main__.plot_solow_diagram(k: int, n: float, s: float, B: int, alpha: float, delta: float, kt_xmax: int, kt_vline: float)>"
      ]
     },
     "execution_count": 30,
     "metadata": {},
     "output_type": "execute_result"
    }
   ],
   "source": [
    "# Define function to plot Solow diagram\n",
    "def plot_solow_diagram(k: int, n: float, s: float, B: int, alpha: float, delta: float, kt_xmax: int, kt_vline: float):\n",
    "    # Calculate the growth rates of capital per capita and the diagonal line\n",
    "    k_growth = [s * B * t**alpha for t in range(kt_xmax + 1)]\n",
    "    diagonal = [(n + delta) * t for t in range(kt_xmax + 1)]\n",
    "\n",
    "    # Calculate steady state capital per capita\n",
    "    k_star = ((s*B)/(n+delta))**(1/(1-alpha))\n",
    "\n",
    "    # Configure plot settings\n",
    "    plt.rcParams['axes.facecolor'] = 'white'\n",
    "    plt.figure(figsize=(8, 6))\n",
    "    plt.plot(k_growth, label=r'$sBk_t^{\\alpha}$', color='salmon')\n",
    "    plt.plot(diagonal, label=r'$(n+\\delta)k_t$', color='dimgrey')\n",
    "    plt.axvline(x=k_star, linestyle='--', color='violet', label=r'$k*$')\n",
    "    plt.axvline(x=kt_vline, linestyle='--', color='teal', label=r'$k_t$')\n",
    "    plt.xlim(0, kt_xmax)\n",
    "    plt.xlabel('Capital per capita, $k_t$')\n",
    "    plt.ylabel('')\n",
    "    plt.legend()\n",
    "    plt.title('Figure 1: Solow Diagram')\n",
    "    plt.grid(True)  # add grid\n",
    "    \n",
    "    # Add arrows to the plot\n",
    "    arrow_len = abs(k_star - kt_vline)\n",
    "    arrow_positions = [0.3, 0.6, 0.8, 0.9, 0.95, 1]\n",
    "    \n",
    "    # If kt_vline is to the left of k_star, flip the direction of the arrows\n",
    "    if kt_vline < k_star:\n",
    "        arrow_len = -arrow_len\n",
    "        arrow_positions = [1 - pos for pos in arrow_positions]\n",
    "    else:\n",
    "        arrow_positions = [1 - pos for pos in arrow_positions]\n",
    "    \n",
    "    arrow_center = min(k_star, kt_vline) + abs(arrow_len) / 2\n",
    "    \n",
    "    # Add each arrow to the plot\n",
    "    for pos in arrow_positions:\n",
    "        arrow_x = arrow_center + arrow_len * (pos - 0.5)\n",
    "        plt.annotate(\n",
    "            '',\n",
    "            xy=(kt_vline, 0), xycoords='data',\n",
    "            xytext=(arrow_x, 0), textcoords='data',\n",
    "            arrowprops=dict(\n",
    "                arrowstyle=\"<-\", color=\"black\", lw=1, mutation_scale=15\n",
    "            )\n",
    "        )\n",
    "\n",
    "    # print plot\n",
    "    plt.show()\n",
    "\n",
    "# Create an interactive widget to display the Solow diagram\n",
    "widgets.interact(\n",
    "    plot_solow_diagram,\n",
    "    k=widgets.fixed(0),\n",
    "    alpha=widgets.FloatSlider(description=r'α', min=0, max=0.9, step=0.05, value=0.3, layout=widgets.Layout(width='50%')),\n",
    "    delta=widgets.FloatSlider(description=r'δ', min=0, max=0.1, step=0.01, value=0.01, layout=widgets.Layout(width='50%')),\n",
    "    s=widgets.FloatSlider(description='s', min=0.01, max=0.8, step=0.05, value=0.4, layout=widgets.Layout(width='50%')),\n",
    "    n=widgets.FloatSlider(description='n', min=0.01, max=0.1, step=0.005, value=0.01, layout=widgets.Layout(width='50%')),\n",
    "    B=widgets.fixed(1),\n",
    "    kt_xmax=widgets.IntSlider(description='k_t axis', min=1, max=100, step=10, value=100, layout=widgets.Layout(width='50%')),\n",
    "    kt_vline=widgets.FloatSlider(description='k_t', min=0, max=100, step=0.1, value=20, layout=widgets.Layout(width='50%'))\n",
    ")"
   ]
  },
  {
   "attachments": {},
   "cell_type": "markdown",
   "metadata": {},
   "source": [
    "The plot shows how different parameter values changes the steady state. The savings rate and the alpha parameter affects the steady state positively, while population growth and the depriciation rate affects the steady state negatively. "
   ]
  },
  {
   "attachments": {},
   "cell_type": "markdown",
   "metadata": {},
   "source": [
    "# Solow Model with Human Capital"
   ]
  },
  {
   "attachments": {},
   "cell_type": "markdown",
   "metadata": {},
   "source": [
    "Now we extend the basic solow model to the solow model with human capital. Therefor we have following equation for the solow model with human capital."
   ]
  },
  {
   "attachments": {},
   "cell_type": "markdown",
   "metadata": {},
   "source": [
    "$Y_t=K_t^\\alpha H_t^{\\varphi}\\left(A_t L_t\\right)^{1-\\alpha-\\varphi}$\\\n",
    "$r_t=\\alpha\\left(\\frac{K_t}{A_t L_t}\\right)^{\\alpha-1}\\left(\\frac{H_t}{A_t L_t}\\right)^{\\varphi}$\\\n",
    "$w_t=(1-\\alpha)\\left(\\frac{K_t}{A_t L_t}\\right)^\\alpha\\left(\\frac{H_t}{A_t L_t}\\right)^{\\varphi} A_t$\\\n",
    "$K_{t+1}-K_t=s_K Y_t-\\delta K_t$\\\n",
    "$H_{t+1}-H_t=s_H Y_t-\\delta H_t$\\\n",
    "$L_{t+1}=(1+n) L_t$\\\n",
    "$A_{t+1}=(1+g) A_t$\\\n",
    "\n",
    "In the solow model with human capital we have \n",
    "$\\tilde k = \\frac{K_t}{A_tL_t}$ and $\\tilde h = \\frac{h_t}{A_tL_t}$"
   ]
  },
  {
   "cell_type": "code",
   "execution_count": 9,
   "metadata": {},
   "outputs": [],
   "source": [
    "n,g,s_k,s_h,k,h,alpha,phi,delta=sm.symbols('n g s_k s_h k h alpha phi delta')"
   ]
  },
  {
   "cell_type": "code",
   "execution_count": 10,
   "metadata": {},
   "outputs": [
    {
     "data": {
      "text/latex": [
       "$\\displaystyle \\frac{h^{\\phi} k^{\\alpha} s_{k} + k \\left(1 - \\delta\\right)}{\\left(g + 1\\right) \\left(n + 1\\right)} = k$"
      ],
      "text/plain": [
       " φ  α                   \n",
       "h ⋅k ⋅sₖ + k⋅(1 - δ)    \n",
       "──────────────────── = k\n",
       "  (g + 1)⋅(n + 1)       "
      ]
     },
     "execution_count": 10,
     "metadata": {},
     "output_type": "execute_result"
    }
   ],
   "source": [
    "#Steady state equation in the model\n",
    "ss1 = sm.Eq((s_k*k**alpha*h**phi+(1-delta)*k)/((1+n)*(1+g)), k)\n",
    "ss2 = sm.Eq((s_h*k**alpha*h**phi+(1-delta)*h)/((1+n)*(1+g)), h)\n",
    "ss1"
   ]
  },
  {
   "cell_type": "code",
   "execution_count": 11,
   "metadata": {},
   "outputs": [
    {
     "data": {
      "text/latex": [
       "$\\displaystyle \\frac{h^{\\phi} k^{\\alpha} s_{k} + k \\left(1 - \\delta\\right)}{\\left(g + 1\\right) \\left(n + 1\\right)} = k$"
      ],
      "text/plain": [
       " φ  α                   \n",
       "h ⋅k ⋅sₖ + k⋅(1 - δ)    \n",
       "──────────────────── = k\n",
       "  (g + 1)⋅(n + 1)       "
      ]
     },
     "execution_count": 11,
     "metadata": {},
     "output_type": "execute_result"
    }
   ],
   "source": [
    "#First we find the steady state for k\n",
    "\n",
    "ss_k = sm.Eq((s_k*k**alpha*h**phi+(1-delta)*k)/((1+n)*(1+g)), k) \n",
    "ss_k\n"
   ]
  },
  {
   "cell_type": "code",
   "execution_count": 12,
   "metadata": {},
   "outputs": [
    {
     "data": {
      "text/latex": [
       "$\\displaystyle \\frac{h \\left(1 - \\delta\\right) + h^{\\phi} k^{\\alpha} s_{h}}{\\left(g + 1\\right) \\left(n + 1\\right)} = h$"
      ],
      "text/plain": [
       "             φ  α       \n",
       "h⋅(1 - δ) + h ⋅k ⋅sₕ    \n",
       "──────────────────── = h\n",
       "  (g + 1)⋅(n + 1)       "
      ]
     },
     "execution_count": 12,
     "metadata": {},
     "output_type": "execute_result"
    }
   ],
   "source": [
    "#Now we kan find the steady state for h\n",
    "ss_h = sm.Eq((s_h*k**alpha*h**phi+(1-delta)*h)/((1+n)*(1+g)), h)\n",
    "ss_h"
   ]
  },
  {
   "cell_type": "code",
   "execution_count": 13,
   "metadata": {},
   "outputs": [
    {
     "data": {
      "text/latex": [
       "$\\displaystyle \\left\\{ h : \\frac{h^{\\phi} k^{\\alpha} s_{h}}{\\delta + g n + g + n}, \\  k : \\frac{h^{\\phi} k^{\\alpha} s_{k}}{\\delta + g n + g + n}\\right\\}$"
      ],
      "text/plain": [
       "⎧        φ  α                φ  α      ⎫\n",
       "⎪       h ⋅k ⋅sₕ            h ⋅k ⋅sₖ   ⎪\n",
       "⎨h: ───────────────, k: ───────────────⎬\n",
       "⎪   δ + g⋅n + g + n     δ + g⋅n + g + n⎪\n",
       "⎩                                      ⎭"
      ]
     },
     "execution_count": 13,
     "metadata": {},
     "output_type": "execute_result"
    }
   ],
   "source": [
    "#Finding steady state for k and h:\n",
    "sss_k= sm.solve((ss_k, ss_h),(k,h), implicit = True, manual = True)\n",
    "sss_k\n"
   ]
  },
  {
   "cell_type": "code",
   "execution_count": 14,
   "metadata": {},
   "outputs": [],
   "source": [
    "#Python function:\n",
    "ss_func = sm.lambdify((s_h,s_k,g,n,alpha,phi,delta,h,k),sss_k)\n"
   ]
  },
  {
   "attachments": {},
   "cell_type": "markdown",
   "metadata": {},
   "source": [
    "Now we have the equations we need and thus we can determine the value of the parameters in the model. After that we solve the values of our variables in the model.\n"
   ]
  },
  {
   "cell_type": "code",
   "execution_count": 15,
   "metadata": {},
   "outputs": [],
   "source": [
    "#Define parameters\n",
    "n= 0.01\n",
    "g=0.02\n",
    "alpha=1/3\n",
    "delta=0.06\n",
    "phi=1/3\n",
    "s_k=0.1\n",
    "s_h=0.1\n"
   ]
  },
  {
   "cell_type": "code",
   "execution_count": 16,
   "metadata": {},
   "outputs": [],
   "source": [
    "#do not work and therefore written out\n",
    "#Analytical solution is defined:\n",
    "#AnalyticalSolution = ss_func(s_h,s_k,g,n,alpha,phi,delta,h,k)\n",
    "\n",
    "\n",
    "#AnalyticalSolution_ss = sm.Eq(sss_k,AnalyticalSolution)\n",
    "#sm.pprint(AnalyticalSolution_ss)\n",
    "\n",
    "#Due not work#\n",
    "#print(f'Analytical solution is: k* = {AnalyticalSolution[0]:.3f}, h* = {AnalyticalSolution[1]:.3f}')\n"
   ]
  },
  {
   "cell_type": "code",
   "execution_count": 17,
   "metadata": {},
   "outputs": [],
   "source": [
    "#Defining function for h: \n",
    "def solow_h_function(k: float, s_h:float, s_k: float, g:float, n: float, alpha: float, delta: float, phi: float, h: float) -> float:\n",
    "    \"\"\"\n",
    "    Finds the solow steady state for capital by using the bisect optimizer from module Scipy\n",
    "\n",
    "    Args :\n",
    "    alpha: Return on physical capital\n",
    "    phi  : Reuturn on human capital\n",
    "    delta: Depreciation rate\n",
    "    s_h  : Human capital investments\n",
    "    s_k  : Psycial capital investments\n",
    "    n    : Population growth\n",
    "    g    : Technology growth\n",
    "    k    : Physical capital\n",
    "    h    : Human capital\n",
    "    \"\"\"\n",
    "\n",
    "    \n",
    "\n",
    "    return 1/((1+n)*(1+g))*(s_h*k**(alpha)*h**(phi)+(1-delta)*h)-h\n",
    "\n"
   ]
  },
  {
   "cell_type": "code",
   "execution_count": 18,
   "metadata": {},
   "outputs": [],
   "source": [
    "#Defining function for k: \n",
    "def solow_k_function(h: float, s_h:float, s_k: float, g:float, n: float, alpha: float, delta: float, phi: float, k: float) -> float:\n",
    "    \"\"\"\n",
    "    Finds the solow steady state for capital by using the bisect optimizer from module Scipy\n",
    "\n",
    "    Args :\n",
    "    alpha: Return on physical capital\n",
    "    phi  : Reuturn on human capital\n",
    "    delta: Depreciation rate\n",
    "    s_h  : Human capital investments\n",
    "    s_k  : Psycial capital investments\n",
    "    n    : Population growth\n",
    "    g    : Technology growth\n",
    "    k    : Physical capital\n",
    "    h    : Human capital\n",
    "    \"\"\"\n",
    "\n",
    "    #Returning transition equation for physical capital:\n",
    "\n",
    "    return 1/((1+n)*(1+g))*(s_k*k**(alpha)*h**(phi)+(1-delta)*k)-k\n"
   ]
  },
  {
   "cell_type": "code",
   "execution_count": 19,
   "metadata": {},
   "outputs": [],
   "source": [
    "# define the function h and k together with vektors for replacing the endogene variables \n",
    "func = lambda x: [solow_h_function(x[1],s_h,s_k,g,n,alpha,delta,phi,x[0]),solow_k_function(x[0],s_h,s_k,g,n,alpha,delta,phi,x[1])]\n"
   ]
  },
  {
   "cell_type": "code",
   "execution_count": 20,
   "metadata": {},
   "outputs": [],
   "source": [
    "#Solving the vector functions:\n",
    "solution = optimize.root(func,[1,1],method = 'broyden1')\n"
   ]
  },
  {
   "cell_type": "code",
   "execution_count": 21,
   "metadata": {},
   "outputs": [
    {
     "name": "stdout",
     "output_type": "stream",
     "text": [
      "Numerical solution is: k* = 1.363, h* = 1.363\n"
     ]
    }
   ],
   "source": [
    "#The numerical solution:\n",
    "NumericalSolution = solution.x\n",
    "\n",
    "print(f'Numerical solution is: k* = {NumericalSolution[1]:.3f}, h* = {NumericalSolution[0]:.3f}')\n"
   ]
  },
  {
   "attachments": {},
   "cell_type": "markdown",
   "metadata": {},
   "source": [
    "This the vaule of the steady state vaule k and h ind the solow model with human capital"
   ]
  },
  {
   "attachments": {},
   "cell_type": "markdown",
   "metadata": {},
   "source": [
    "Phase diagram"
   ]
  },
  {
   "attachments": {},
   "cell_type": "markdown",
   "metadata": {},
   "source": [
    "Based on our numerical analysis, vectors are now constructed that make it possible to display a phase diagram for the model with human capita"
   ]
  },
  {
   "cell_type": "code",
   "execution_count": 22,
   "metadata": {},
   "outputs": [],
   "source": [
    "#Function expressing the nullclines: \n",
    "def ss_0(s_h:float, s_k: float, g:float, n: float, alpha: float, delta: float, phi: float) -> float:\n",
    "    \"\"\"\n",
    "\n",
    "    Args :\n",
    "    alpha: Return on physical capital\n",
    "    phi  : Return on human capital\n",
    "    delta: Depreciation rate\n",
    "    s_h  : Human capital investments\n",
    "    s_k  : Psycial capital investments\n",
    "    n    : Population growth\n",
    "    g    : Technology growth\n",
    "    h    : Human capital\n",
    "    k    : Physical capital\n",
    "\n",
    "    Returns:\n",
    "    Nullclines for physical and human capital\n",
    "    \"\"\"\n",
    "    \n",
    "    #makning grids \n",
    "    k_vec = np.linspace(1e-4,3,500)\n",
    "    h_vec_DeltaK0 = np.empty(500)\n",
    "    h_vec_DeltaH0  = np.empty(500)\n",
    "\n",
    "    # solve for each k in grid\n",
    "    for i,k in enumerate(k_vec):\n",
    "        \n",
    "        \n",
    "        #objective\n",
    "        obj = lambda h: -solow_h_function(k,s_h,s_k,g,n,alpha,phi,delta,h)\n",
    "        #  optimizer\n",
    "        result = optimize.root_scalar(obj,method='brentq',bracket=[1e-20,50])\n",
    "        \n",
    "        h_vec_DeltaH0[i] = result.root\n",
    "\n",
    "       \n",
    "        \n",
    "        # objective\n",
    "        obj = lambda h: -solow_k_function(h,s_h,s_k,g,n,alpha,phi,delta,k)\n",
    "\n",
    "        #optimizer\n",
    "        result = optimize.root_scalar(obj,method='brentq',bracket=[1e-20,50])\n",
    "\n",
    "        h_vec_DeltaK0[i] = result.root\n",
    "\n",
    "    return k_vec, h_vec_DeltaK0, h_vec_DeltaH0\n",
    "\n",
    "#Solve the function\n",
    "k_vec, h_vec_DeltaK0, h_vec_DeltaH0 = ss_0(s_h,s_k,g,n,alpha,phi,delta)\n"
   ]
  },
  {
   "cell_type": "code",
   "execution_count": 29,
   "metadata": {},
   "outputs": [
    {
     "data": {
      "image/png": "[encoded data removed]",
      "text/plain": [
       "<Figure size 1300x500 with 1 Axes>"
      ]
     },
     "metadata": {},
     "output_type": "display_data"
    }
   ],
   "source": [
    "#Plot for the model\n",
    "fig = plt.figure(figsize=(13,5))\n",
    "ax = fig.add_subplot(1,2,1)\n",
    "ax.plot(k_vec,h_vec_DeltaK0, label=r'$\\Delta \\tilde{k}=0$', c='#E59866')\n",
    "ax.plot(k_vec,h_vec_DeltaH0, label=r'$\\Delta \\tilde{h}=0$', c='#82E0AA')\n",
    "ax.set_xlabel(r'$\\tilde{k}$')\n",
    "ax.set_ylim(-0.2,3.0)\n",
    "ax.set_xlim(-0.2,3.0)\n",
    "ax.set_ylabel(r'$\\tilde{h}$')\n",
    "ax.legend() \n",
    "\n",
    "#We mark the steady state\n",
    "plt.scatter(solution.x[1],solution.x[0],color='black',s=80,zorder=2.5)\n",
    "\n",
    "ax.set_title('Phase diagram');\n"
   ]
  },
  {
   "attachments": {},
   "cell_type": "markdown",
   "metadata": {},
   "source": [
    "From the phase diagram, it can be seen how the two curves intersect and form a steady state, which is marked by the black dot."
   ]
  },
  {
   "attachments": {},
   "cell_type": "markdown",
   "metadata": {},
   "source": [
    "# Experiement: An increase in the investment rate in $s_H$"
   ]
  },
  {
   "attachments": {},
   "cell_type": "markdown",
   "metadata": {},
   "source": [
    "In this experiment we will look at a increase in the investment rate in the human capital. This happens through a political experiment where the increase in the investment rate in human capital is permanently."
   ]
  },
  {
   "cell_type": "code",
   "execution_count": 24,
   "metadata": {},
   "outputs": [],
   "source": [
    "#start importning \n",
    "from matplotlib.lines import Line2D"
   ]
  },
  {
   "cell_type": "code",
   "execution_count": 25,
   "metadata": {},
   "outputs": [
    {
     "data": {
      "application/vnd.jupyter.widget-view+json": {
       "model_id": "e509cf311ac64a5792cf717fa9970848",
       "version_major": 2,
       "version_minor": 0
      },
      "text/plain": [
       "interactive(children=(FloatSlider(value=0.3, description='s_k', max=0.9, min=0.1, step=0.01), FloatSlider(valu…"
      ]
     },
     "metadata": {},
     "output_type": "display_data"
    }
   ],
   "source": [
    "\n",
    "\n",
    "def plot_combinations_new(s_k, s_h, alpha, phi, n, g, delta):\n",
    "    #  The steady state equation so it is possible to plot later\n",
    "    ktilde_ss = ((s_k ** (1 - phi) * s_h ** phi) / (n + g + delta + n * g)) ** (1 / (1 - alpha - phi))\n",
    "    htilde_ss = ((s_k ** alpha * s_h ** (1 - alpha)) / (n + g + delta + n * g)) ** (1 / (1 - alpha - phi))\n",
    "    ktildenew_ss = ((s_k ** (1 - phi) * (s_h * 1.3) ** phi) / (n + g + delta + n * g)) ** (1 / (1 - alpha - phi))\n",
    "    htildenew_ss = ((s_k ** alpha * (s_h * 1.3) ** (1 - alpha)) / (n + g + delta + n * g)) ** (1 / (1 - alpha - phi))\n",
    "    \n",
    "    # define grids\n",
    "    ktilde_values = np.linspace(0.01, 2 * ktilde_ss, 100)\n",
    "    htilde_values = np.linspace(0.01, 2 * htilde_ss, 100)\n",
    "    Ktilde, Htilde = np.meshgrid(ktilde_values, htilde_values)\n",
    "    \n",
    "    # null-clines\n",
    "    delta_ktilde = (1 / ((1 + n) * (1 + g))) * (s_k * Ktilde ** alpha * Htilde ** phi - (n + g + delta + n * g) * Ktilde)\n",
    "    delta_htilde = (1 / ((1 + n) * (1 + g))) * (s_h * Ktilde ** alpha * Htilde ** phi - (n + g + delta + n * g) * Htilde)\n",
    "    delta_htildenew = (1 / ((1 + n) * (1 + g))) * (s_h * 1.3 * Ktilde ** alpha * Htilde ** phi - (n + g + delta + n * g) * Htilde)\n",
    "\n",
    "    # making the plot\n",
    "    plt.figure(figsize=(8, 8))\n",
    "    plt.contour(Ktilde, Htilde, delta_ktilde, levels=[0], colors=['blue'])\n",
    "    plt.contour(Ktilde, Htilde, delta_htilde, levels=[0], colors=['red']) \n",
    "    plt.contour(Ktilde, Htilde, delta_htildenew, levels=[0], colors=['purple']) \n",
    "    plt.plot([],[],[])\n",
    "    \n",
    "    #Initial equilibrium steady state\n",
    "    plt.scatter(ktilde_ss, htilde_ss, color='#76D7C4', marker='o', zorder=3)\n",
    "    plt.annotate(\"E1\", (ktilde_ss, htilde_ss), textcoords=\"offset points\", xytext=(-10, 5), fontsize=12, color='#76D7C4', zorder=3)\n",
    "    \n",
    "    #New equilibriumsteady state\n",
    "    plt.scatter(ktildenew_ss, htildenew_ss, color='#76D7C4', marker='o', zorder=3)\n",
    "    plt.annotate(\"E2\", (ktildenew_ss, htildenew_ss), textcoords=\"offset points\", xytext=(-10, 5), fontsize=12, color='#76D7C4', zorder=3)\n",
    "\n",
    "    # Adds labels and titels\n",
    "    plt.xlabel('$\\~{k}_t$')\n",
    "    plt.ylabel('$\\~{h}_t$')\n",
    "    plt.title('Figure x: Increase in investment rate in human capital')\n",
    "\n",
    "    # Legend\n",
    "    custom_lines = [Line2D([0], [0], color=\"#8E44AD\", lw=4),\n",
    "                    Line2D([0], [0], color=\"#E74C3C\", lw=4),\n",
    "                    Line2D([0], [0], color=\"#F1C40F\", lw=4),\n",
    "                    Line2D([0], [0], marker='o', color=\"#76D7C4\", markersize=10),\n",
    "                    Line2D([0], [0], marker='o', color=\"#76D7C4\", markersize=10)]\n",
    "\n",
    "        \n",
    "    plt.legend(custom_lines, ['$\\Delta k_t=0$', '$\\Delta h_t=0$','$\\Delta h^{new}_t=0$', 'Equilibrium 1', 'Equilibrium 2'])\n",
    "\n",
    "    # Adds boards\n",
    "    plt.xlim(0, 50)\n",
    "    plt.ylim(0, 50)\n",
    "\n",
    "    # Plot \n",
    "    plt.grid()\n",
    "    plt.show()\n",
    "\n",
    "# starting to make the interactive plot first we create the slider\n",
    "\n",
    "s_k_slider = widgets.FloatSlider(min=0.1, max=0.9, step=0.01, value=0.3, description=r's_k')\n",
    "s_h_slider = widgets.FloatSlider(min=0.1, max=0.9, step=0.01, value=0.3, description=r's_h')\n",
    "alpha_slider =widgets.FloatSlider(min=0, max=0.5, step=0.01, value=0.3, description=r'α')\n",
    "phi_slider = widgets.FloatSlider(min=0, max=0.5, step=0.01, value=0.3, description=r'$\\varphi$')\n",
    "n_slider = widgets.FloatSlider(min=0, max=0.1, step=0.001, value=0.01, description=r'n')\n",
    "g_slider = widgets.FloatSlider(min=0, max=0.1, step=0.001, value=0.02, description=r'g')\n",
    "delta_slider = widgets.FloatSlider(min=0, max=0.1, step=0.001, value=0.05, description=r'δ')\n",
    "\n",
    "\n",
    "# Print the plot\n",
    "widgets.interact(plot_combinations_new, s_k=s_k_slider, s_h=s_h_slider, alpha=alpha_slider, phi=phi_slider, n=n_slider, g=g_slider, delta=delta_slider);"
   ]
  },
  {
   "attachments": {},
   "cell_type": "markdown",
   "metadata": {},
   "source": [
    "When we have  a increase in the $s_H$ because we have more human capital per worker, we will se an increase in the income and an increase physical capital because of the investment in in the frste priode. \n",
    "\n",
    "But after the first periode the increase in the human capital and physical will continue to increase in the next period. \n"
   ]
  },
  {
   "attachments": {},
   "cell_type": "markdown",
   "metadata": {},
   "source": [
    "# Simulation of solow human  capital"
   ]
  },
  {
   "cell_type": "code",
   "execution_count": 26,
   "metadata": {},
   "outputs": [
    {
     "name": "stdout",
     "output_type": "stream",
     "text": [
      "SS:5449.611634938297\n"
     ]
    }
   ],
   "source": [
    "def sim(s_h=0.2,s_k =0.2):\n",
    "    g=0.02\n",
    "    n=0.01\n",
    "    alpha=0.3\n",
    "    phi=0.3\n",
    "    delta=0.06\n",
    "\n",
    "    def prod(K, H, A, L):\n",
    "        return K**alpha*H**phi*(A*L)**(1-alpha-phi)\n",
    "    T = 200\n",
    "    Ks = np.zeros(T)\n",
    "    Hs = np.zeros(T)\n",
    "    Ys = np.zeros(T)\n",
    "    Ls = np.zeros(T)\n",
    "    As = np.zeros(T)\n",
    "\n",
    "    Ks[0] = 1.0\n",
    "    Hs[0] = 1.0\n",
    "    Ls[0] = 1.0\n",
    "    As[0] = 2.0\n",
    "    Ys[0] = prod(Ks[0],Hs[0],As[0],Ls[0])\n",
    "    for t in range(1,T):\n",
    "        Ks[t] = s_k*Ys[t-1]+(1-delta)*Ks[t-1]\n",
    "        Hs[t] = s_h*Ys[t-1]+(1-delta)*Hs[t-1]\n",
    "        Ls[t] = (1+n)*Ls[t-1]\n",
    "        As[t] = (1+g)*As[t-1]\n",
    "        Ys[t] = prod(Ks[t],Hs[t],As[t],Ls[t])\n",
    "\n",
    "    return Ks, Hs, Ys, Ls, As\n",
    "\n",
    "Ks, Hs, Ys, Ls, As = sim()\n",
    "\n",
    "# SS last value\n",
    "print(f'SS:{Ks[199]}')\n"
   ]
  },
  {
   "cell_type": "code",
   "execution_count": 27,
   "metadata": {},
   "outputs": [
    {
     "data": {
      "text/plain": [
       "Text(0, 0.5, '$\\\\~{k}_t$')"
      ]
     },
     "execution_count": 27,
     "metadata": {},
     "output_type": "execute_result"
    },
    {
     "data": {
      "image/png": "[encoded data removed]",
      "text/plain": [
       "<Figure size 640x480 with 1 Axes>"
      ]
     },
     "metadata": {},
     "output_type": "display_data"
    }
   ],
   "source": [
    "#plot of sim\n",
    "plt.plot(Ks/(Ls*As))\n",
    "plt.xlabel('$T$')\n",
    "plt.ylabel('$\\~{k}_t$')"
   ]
  },
  {
   "attachments": {},
   "cell_type": "markdown",
   "metadata": {},
   "source": [
    "In this figure we can se how $\\~{k}$ develops in relation to the time.\n",
    "\n",
    "Therefore we se how capital develops in relation to technology and labor\n"
   ]
  },
  {
   "attachments": {},
   "cell_type": "markdown",
   "metadata": {},
   "source": [
    "# Golden Rule"
   ]
  },
  {
   "cell_type": "code",
   "execution_count": 28,
   "metadata": {},
   "outputs": [
    {
     "data": {
      "text/plain": [
       "       message: Optimization terminated successfully.\n",
       "       success: True\n",
       "        status: 0\n",
       "           fun: -2.4238040667889797\n",
       "             x: [ 2.999e-01  2.999e-01]\n",
       "           nit: 29\n",
       "          nfev: 52\n",
       " final_simplex: (array([[ 2.999e-01,  2.999e-01],\n",
       "                       [ 2.999e-01,  3.000e-01],\n",
       "                       [ 3.000e-01,  3.000e-01]]), array([-2.424e+00, -2.424e+00, -2.424e+00]))"
      ]
     },
     "execution_count": 28,
     "metadata": {},
     "output_type": "execute_result"
    }
   ],
   "source": [
    "SS= np.linspace(0.01, 0.9, 50)\n",
    "\n",
    "def obj(x):\n",
    "    s_k=x[0]\n",
    "    s_h=x[1]\n",
    "\n",
    "    Ks,Hs,Ys,Ls,As = sim(s_k,s_h)\n",
    "    y_tilde = Ys/(As*Ls)\n",
    "    c = (1-s_k-s_h) * y_tilde\n",
    "    return -c[199]\n",
    "\n",
    "optimize.minimize(obj, [0.2,0.2], bounds = [(0.01,0.99), (0.01,0.99)], method = \"nelder-mead\")"
   ]
  },
  {
   "attachments": {},
   "cell_type": "markdown",
   "metadata": {},
   "source": [
    "By using the Golden Rule we have found the saving rate that maximizes the comsumtion per capita in the steady state to 0,299."
   ]
  },
  {
   "attachments": {},
   "cell_type": "markdown",
   "metadata": {},
   "source": [
    "# Conclusion"
   ]
  },
  {
   "attachments": {},
   "cell_type": "markdown",
   "metadata": {},
   "source": [
    "In the basic Solow model the calulate the steady state value analytical and numerical and have we se they same value. In the basic solow model the savings rate and $\\alpha$ have a positiv effect on the steady state value, while we could see that the population growth and the despriciation rate effect the value of steady state negatively.\n",
    "\n",
    "\n",
    "In the solow model with human capital we found out that $s_H$ has a positive effect on the income and the physical capital. The postive effect will continue to has a positive effect after the firste period.\n",
    "\n",
    "\n",
    "We found the optimal savings rate to 0,299 by using the golden rule on the solow model with human capital."
   ]
  }
 ],
 "metadata": {
  "kernelspec": {
   "display_name": "base",
   "language": "python",
   "name": "python3"
  },
  "language_info": {
   "codemirror_mode": {
    "name": "ipython",
    "version": 3
   },
   "file_extension": ".py",
   "mimetype": "text/x-python",
   "name": "python",
   "nbconvert_exporter": "python",
   "pygments_lexer": "ipython3",
   "version": "3.9.16"
  },
  "toc-autonumbering": true,
  "vscode": {
   "interpreter": {
    "hash": "47ef90cdf3004d3f859f1fb202523c65c07ba7c22eefd261b181f4744e2d0403"
   }
  }
 },
 "nbformat": 4,
 "nbformat_minor": 4
}
