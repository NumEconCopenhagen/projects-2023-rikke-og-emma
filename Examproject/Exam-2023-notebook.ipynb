{
 "cells": [
  {
   "attachments": {},
   "cell_type": "markdown",
   "metadata": {},
   "source": [
    "**Table of contents**<a id='toc0_'></a>    \n",
    "- 1. [Problem 1: Optimal taxation with government consumption](#toc1_)    \n",
    "- 2. [Problem 2: Labor adjustment costs](#toc2_)    \n",
    "- 3. [Problem 3: Global optimizer with refined multi-start](#toc3_)    \n",
    "\n",
    "<!-- vscode-jupyter-toc-config\n",
    "\tnumbering=true\n",
    "\tanchor=true\n",
    "\tflat=false\n",
    "\tminLevel=2\n",
    "\tmaxLevel=6\n",
    "\t/vscode-jupyter-toc-config -->\n",
    "<!-- THIS CELL WILL BE REPLACED ON TOC UPDATE. DO NOT WRITE YOUR TEXT IN THIS CELL -->"
   ]
  },
  {
   "cell_type": "code",
   "execution_count": 214,
   "metadata": {},
   "outputs": [],
   "source": [
    "import numpy as np\n",
    "import sympy as sm\n",
    "from scipy import optimize\n",
    "from sympy import Symbol\n",
    "from sympy.solvers import solve\n",
    "from IPython.display import display\n",
    "import matplotlib.pyplot as plt\n",
    "import ipywidgets as widgets\n",
    "import math\n"
   ]
  },
  {
   "attachments": {},
   "cell_type": "markdown",
   "metadata": {},
   "source": [
    "## 1. <a id='toc1_'></a>[Problem 1: Optimal taxation with government consumption](#toc0_)"
   ]
  },
  {
   "attachments": {},
   "cell_type": "markdown",
   "metadata": {},
   "source": [
    "\n",
    "Consider a worker choosing hours of labor, $L\\in[0,24]$, to maximize utility: \n",
    "\n",
    "$$\n",
    "\\begin{align*}\n",
    "V(w,\\tau,G)&=\\max_{L\\in[0,24]}\\ln\\left(C^{\\alpha}G^{1-\\alpha}\\right)-\\nu\\frac{L^{2}}{2}\\\\&\\text{s.t.}\\\\&C=\\kappa+(1-\\tau)wL\n",
    "\\end{align*}\n",
    "$$\n",
    "\n",
    "where \n",
    "\n",
    "* $C$ is *private* consumption with weight $\\alpha\\in(0,1)$.\n",
    "* $\\kappa > 0$ is the *free private* consumption component.\n",
    "* $C = (1-\\tau)wL$ is the *costly private* consumption component.\n",
    "* $w > 0 $ is the real wage.\n",
    "* $\\tau \\in (0,1)$ is the labor-income tax rate.\n",
    "* $G > 0 $ is *government* consumption with weight $1-\\alpha$.\n",
    "* $\\nu > 0$ is the disutility of labor scaling factor"
   ]
  },
  {
   "attachments": {},
   "cell_type": "markdown",
   "metadata": {},
   "source": [
    "\n",
    "The baseline parameters are:\n",
    "\n",
    "$$\n",
    "\\begin{align*}\n",
    "\\alpha &= 0.5\\\\\n",
    "\\kappa &= 1.0\\\\\n",
    "\\nu &= \\frac{1}{2\\cdot16^2} \\\\\n",
    "w &= 1.0 \\\\ \n",
    "\\tau &= 0.30 \\\\\n",
    "\\end{align*}\n",
    "$$"
   ]
  },
  {
   "attachments": {},
   "cell_type": "markdown",
   "metadata": {},
   "source": [
    "**Question 1:** Verify that the optimal labor supply choice is $L^{\\star}(\\tilde{w}) =\\frac{-\\kappa+\\sqrt{\\kappa^{2}+4\\frac{\\alpha}{\\nu}\\tilde{w}^2}}{2\\tilde{w}}$, where $\\tilde{w} = (1-\\tau)w$, for $G\\in\\left\\{1.0 , 2.0\\right\\}$."
   ]
  },
  {
   "attachments": {},
   "cell_type": "markdown",
   "metadata": {},
   "source": [
    "##### Numerical solution"
   ]
  },
  {
   "cell_type": "code",
   "execution_count": 180,
   "metadata": {},
   "outputs": [],
   "source": [
    "\n",
    "import sympy as sp\n",
    "\n",
    "# Define the symbols\n",
    "L, kappa, alpha, nu, tau, w, G = sp.symbols('L kappa alpha nu tau w G')\n",
    "\n",
    "# Define the utility function\n",
    "C = kappa + (1 - tau) * w * L\n",
    "utility = sp.log(C**alpha * G**(1 - alpha)) - nu * ((L**2) / 2)\n",
    "\n",
    "# Calculate the derivative of the utility function with respect to L\n",
    "dV_dL = utility.diff(L)\n",
    "\n",
    "# Solve for the optimal labor supply choice L*\n",
    "L_starr = sp.solve(dV_dL, L)[0]\n",
    "\n"
   ]
  },
  {
   "cell_type": "code",
   "execution_count": 181,
   "metadata": {},
   "outputs": [
    {
     "data": {
      "text/latex": [
       "$\\displaystyle \\frac{\\kappa \\nu - \\sqrt{\\nu \\left(4 \\alpha \\tau^{2} w^{2} - 8 \\alpha \\tau w^{2} + 4 \\alpha w^{2} + \\kappa^{2} \\nu\\right)}}{2 \\nu w \\left(\\tau - 1\\right)}$"
      ],
      "text/plain": [
       "(kappa*nu - sqrt(nu*(4*alpha*tau**2*w**2 - 8*alpha*tau*w**2 + 4*alpha*w**2 + kappa**2*nu)))/(2*nu*w*(tau - 1))"
      ]
     },
     "metadata": {},
     "output_type": "display_data"
    }
   ],
   "source": [
    "#Rewrites the function\n",
    "display(L_starr)"
   ]
  },
  {
   "attachments": {},
   "cell_type": "markdown",
   "metadata": {},
   "source": [
    "##### Analytical solution "
   ]
  },
  {
   "cell_type": "code",
   "execution_count": 182,
   "metadata": {},
   "outputs": [],
   "source": [
    "# Define the symbols\n",
    "L, w, alpha, kappa, nu, tau, lambda_ = sp.symbols('L w alpha kappa nu tau lambda')\n",
    "\n",
    "# Define the utility function and private consumption\n",
    "C = kappa + (1 - tau) * w * L\n",
    "utility = sp.log(C**alpha * (1 - alpha)) - nu * ((L**2) / 2)\n",
    "\n",
    "# Define the Lagrangian function\n",
    "lagrangian = utility + lambda_ * (kappa + (1 - tau) * w * L - C)\n",
    "\n",
    "# Calculate the partial derivatives\n",
    "d_lagrangian_L = sp.diff(lagrangian, L)\n",
    "d_lagrangian_lambda = sp.diff(lagrangian, lambda_)\n",
    "\n",
    "# Solve the system of equations\n",
    "solution = sp.solve((d_lagrangian_L, d_lagrangian_lambda), (L, lambda_))\n",
    "\n",
    "# Extract the optimal labor supply\n",
    "optimal_L_expr = solution[0][0]\n",
    "\n"
   ]
  },
  {
   "cell_type": "code",
   "execution_count": 183,
   "metadata": {},
   "outputs": [
    {
     "data": {
      "text/latex": [
       "$\\displaystyle \\frac{\\kappa \\nu - \\sqrt{\\nu \\left(4 \\alpha \\tau^{2} w^{2} - 8 \\alpha \\tau w^{2} + 4 \\alpha w^{2} + \\kappa^{2} \\nu\\right)}}{2 \\nu w \\left(\\tau - 1\\right)}$"
      ],
      "text/plain": [
       "(kappa*nu - sqrt(nu*(4*alpha*tau**2*w**2 - 8*alpha*tau*w**2 + 4*alpha*w**2 + kappa**2*nu)))/(2*nu*w*(tau - 1))"
      ]
     },
     "metadata": {},
     "output_type": "display_data"
    }
   ],
   "source": [
    "# omskriver function for optimal labor supply\n",
    "display(optimal_L_expr)"
   ]
  },
  {
   "attachments": {},
   "cell_type": "markdown",
   "metadata": {},
   "source": [
    "This expression can be reduced to the wanted expression by including the definition for $\\tilde{w}$. We solved this both numerically and analytically but using the Lagrange. Both methods give the same answer."
   ]
  },
  {
   "cell_type": "code",
   "execution_count": 184,
   "metadata": {},
   "outputs": [
    {
     "name": "stdout",
     "output_type": "stream",
     "text": [
      "For G = 1.0: L* = 15.30\n",
      "For G = 2.0: L* = 15.30\n"
     ]
    }
   ],
   "source": [
    "# Given parameters\n",
    "alpha = 0.5\n",
    "kappa = 1.0\n",
    "nu = 1.0 / (2 * 16 ** 2)\n",
    "w = 1.0\n",
    "tau = 0.30\n",
    "\n",
    "# Calculate the optimal labor supply for different values of G\n",
    "G_values = [1.0, 2.0]\n",
    "for G in G_values:\n",
    "    # Calculate tilde(w)\n",
    "    w_tilde = (1 - tau) * w\n",
    "    # Calculate the optimal labor supply\n",
    "    L_star = (-kappa + math.sqrt(kappa ** 2 + 4 * alpha / nu * w_tilde ** 2)) / (2 * w_tilde)\n",
    "    \n",
    "    # Print the result\n",
    "    print(f\"For G = {G}: L* = {L_star:.2f}\")\n"
   ]
  },
  {
   "attachments": {},
   "cell_type": "markdown",
   "metadata": {},
   "source": [
    "**Question 2:** Illustrate how $L^{\\star}(\\tilde{w})$ depends on $w$."
   ]
  },
  {
   "cell_type": "code",
   "execution_count": 185,
   "metadata": {},
   "outputs": [
    {
     "data": {
      "image/png": "[encoded data removed]",
      "text/plain": [
       "<Figure size 640x480 with 1 Axes>"
      ]
     },
     "metadata": {},
     "output_type": "display_data"
    }
   ],
   "source": [
    "# Parameters\n",
    "alpha = 0.5\n",
    "kappa = 1.0\n",
    "nu = 1 / (2 * 16**2)\n",
    "w = 1.0\n",
    "tau = 0.30\n",
    "\n",
    "# Range of w values\n",
    "w_values = np.linspace(0.1, 2.0, 100)\n",
    "\n",
    "# L* for each w value\n",
    "L_star_values = []\n",
    "for w in w_values:\n",
    "    # Tilde(w)\n",
    "    w_tilde = (1 - tau) * w\n",
    "\n",
    "    #The optimal labor supply\n",
    "    L_star = (-kappa + np.sqrt(kappa ** 2 + 4 * (alpha / nu) * w_tilde ** 2)) / (2 * w_tilde)\n",
    "    L_star_values.append(L_star)\n",
    "\n",
    "# Plot the results\n",
    "plt.plot(w_values, L_star_values)\n",
    "plt.xlabel('w')\n",
    "plt.ylabel('L*')\n",
    "plt.title('Optimal Labor Supply')\n",
    "plt.grid(True)\n",
    "plt.show()\n"
   ]
  },
  {
   "attachments": {},
   "cell_type": "markdown",
   "metadata": {},
   "source": [
    "On the graph we see that L depends positively on w. We see that people work for more hours when the wage increases, but hours worked are marginally decreasing. Here we see that labour hours increase a lot when the wage increases up to 1, and after that it takes a bigger wage increase for people to work more hours."
   ]
  },
  {
   "attachments": {},
   "cell_type": "markdown",
   "metadata": {},
   "source": [
    "\n",
    "We now consider a government, who chooses $\\tau$ and spend all of the taxes on government consumption so:\n",
    "\n",
    "$$\n",
    "G = \\tau w L^{\\star}((1-\\tau)w)\n",
    "$$\n",
    "\n",
    "**Question 3:** Plot the implied $L$, $G$ and worker utility for a grid of $\\tau$-values.\n"
   ]
  },
  {
   "cell_type": "code",
   "execution_count": 186,
   "metadata": {},
   "outputs": [
    {
     "data": {
      "image/png": "[encoded data removed]",
      "text/plain": [
       "<Figure size 1200x400 with 3 Axes>"
      ]
     },
     "metadata": {},
     "output_type": "display_data"
    }
   ],
   "source": [
    "# Range of tau values\n",
    "tau_values = np.linspace(0.05, 0.95, 100)  # Adjust the range as needed\n",
    "\n",
    "# Initialize arrays to store results\n",
    "L_values = []\n",
    "G_values = []\n",
    "V_values = []\n",
    "\n",
    "# Calculate L, G, and V for each tau value\n",
    "for tau in tau_values:\n",
    "    # Calculate tilde(w)\n",
    "    w_tilde = (1 - tau) * w\n",
    "    \n",
    "    # Calculate the optimal labor supply\n",
    "    L_star = (-kappa + np.sqrt(kappa ** 2 + 4 * (alpha / nu) * w_tilde ** 2)) / (2 * w_tilde)\n",
    "    L_values.append(L_star)\n",
    "    \n",
    "    # Calculate government consumption\n",
    "    G = tau * w * L_star*((1-tau)*w)\n",
    "    G_values.append(G)\n",
    "    \n",
    "    # Calculate worker utility\n",
    "    C = kappa + (1 - tau) * w * L_star\n",
    "    V = np.log(C ** alpha * G ** (1 - alpha)) - nu * ((L_star ** 2) / 2)\n",
    "    V_values.append(V)\n",
    "\n",
    "# Plot the results\n",
    "plt.figure(figsize=(12, 4))\n",
    "\n",
    "# Plot labor supply\n",
    "plt.subplot(1, 3, 1)\n",
    "plt.plot(tau_values, L_values)\n",
    "plt.xlabel('tau')\n",
    "plt.ylabel('L')\n",
    "plt.title('Labor Supply')\n",
    "plt.grid(True)\n",
    "\n",
    "# Plot government consumption\n",
    "plt.subplot(1, 3, 2)\n",
    "plt.plot(tau_values, G_values)\n",
    "plt.xlabel('tau')\n",
    "plt.ylabel('G')\n",
    "plt.title('Government Consumption')\n",
    "plt.grid(True)\n",
    "\n",
    "# Plot worker utility\n",
    "plt.subplot(1, 3, 3)\n",
    "plt.plot(tau_values, V_values)\n",
    "plt.xlabel('tau')\n",
    "plt.ylabel('V')\n",
    "plt.title('Worker Utility')\n",
    "plt.grid(True)\n",
    "\n",
    "plt.tight_layout()\n",
    "plt.show()\n"
   ]
  },
  {
   "attachments": {},
   "cell_type": "markdown",
   "metadata": {},
   "source": [
    "##### Graph for Labor Supply \n",
    "Here we see that labor hours decreases as the tax increases. This is because with a higher tax rate, the more hours worked will not be profitable, as the workers salary after taxes decreases. \n",
    "\n",
    "##### Graph for Government Consumption\n",
    "Here we see that when the tax increases, the government consumption increases. This is because the government gets more money to spend. We see that when tau exceeds around 0,9 the government consumption starts to descrease. This can be explained by the fall in worker utility and labor supply. \n",
    "\n",
    "##### Graph for Worker Utility \n",
    "We see that worker utility increases for a tax up to 0,5, and then decreases for a tax bigger than 0,5. The optimal worker utility is when the tax is equal to 0,5. \n"
   ]
  },
  {
   "attachments": {},
   "cell_type": "markdown",
   "metadata": {},
   "source": [
    "**Question 4:** Find the socially optimal tax rate $\\tau^{\\star}\\in(0,1)$ maximizing worker utility. Illustrate your result."
   ]
  },
  {
   "cell_type": "code",
   "execution_count": 187,
   "metadata": {},
   "outputs": [
    {
     "name": "stdout",
     "output_type": "stream",
     "text": [
      "The socially optimal tax rate τ*: 0.33\n"
     ]
    }
   ],
   "source": [
    "# Range of tau values\n",
    "tau_values = np.linspace(0.05, 0.95, 100)  # Adjust the range as needed\n",
    "\n",
    "# Initialize variables\n",
    "V_max = -np.inf\n",
    "tau_star = None\n",
    "\n",
    "# Calculate worker utility for each tau value and find the maximum\n",
    "for tau in tau_values:\n",
    "    # Calculate tilde(w)\n",
    "    w_tilde = (1 - tau) * w\n",
    "    \n",
    "    # Calculate the optimal labor supply\n",
    "    L_star = (-kappa + np.sqrt(kappa ** 2 + 4 * (alpha / nu) * w_tilde ** 2)) / (2 * w_tilde)\n",
    "    \n",
    "    # Calculate government consumption\n",
    "    G = tau * w * L_star*((1-tau)*w)\n",
    "    \n",
    "    # Calculate worker utility\n",
    "    C = kappa + (1 - tau) * w * L_star\n",
    "    V = np.log(C ** alpha * G ** (1 - alpha)) - nu * ((L_star ** 2) / 2)\n",
    "    \n",
    "    # Update maximum utility and optimal tau\n",
    "    if V > V_max:\n",
    "        V_max = V\n",
    "        tau_star = tau\n",
    "\n",
    "# Print the result\n",
    "print(f\"The socially optimal tax rate τ*: {tau_star:.2f}\")\n"
   ]
  },
  {
   "attachments": {},
   "cell_type": "markdown",
   "metadata": {},
   "source": [
    "This value of tau is consistent with the graph for Worker Utility. "
   ]
  },
  {
   "attachments": {},
   "cell_type": "markdown",
   "metadata": {},
   "source": [
    "A more general preference formulation for the worker is:\n",
    "\n",
    "$$\n",
    "\\begin{align*}\n",
    "\\mathcal{V}(w,\\tau,G)&=\\max_{L\\in[0,24]}\\frac{\\left[ \\left( \\alpha C^{\\frac{\\sigma-1}{\\sigma}}+(1-\\alpha) G^{\\frac{\\sigma-1}{\\sigma}} \\right)^{\\frac{\\sigma}{1-\\sigma} }\\right]^{1-\\rho}-1}{1-\\rho}- \\nu\\frac{L^{1+\\varepsilon}}{1+\\varepsilon},\\,\\,\\,\\varepsilon,\\rho,\\sigma>0,\\,\\,\\,\\rho,\\sigma\\neq1\\\\&\\text{s.t.}\\\\&C=\\kappa+(1-\\tau)wL\n",
    "\\end{align*}    \n",
    "$$\n",
    "\n",
    "Optimal labor supply is now $L^{\\star}(\\tilde{w},G)$."
   ]
  },
  {
   "attachments": {},
   "cell_type": "markdown",
   "metadata": {},
   "source": [
    "Questions 5 and 6 must be answered with the general formulation, and for 2 different set of parameters:\n",
    "\n",
    "- Set 1:  $\\sigma = 1.001$, $\\rho = 1.001$ and $\\varepsilon = 1.0$.\n",
    "- Set 2:  $\\sigma = 1.5$, $\\rho = 1.5$ and $\\varepsilon = 1.0 $."
   ]
  },
  {
   "attachments": {},
   "cell_type": "markdown",
   "metadata": {},
   "source": [
    "**Question 5:** Find the $G$ that solves $G = \\tau w L^{\\star}((1-\\tau)w,G)$ using the $\\tau$ found in question 4.\n",
    "\n",
    "*Hint: First write code that solves the worker problem for given values of $G$ and $\\tau$. Then find the correct G based on this.*"
   ]
  },
  {
   "attachments": {},
   "cell_type": "markdown",
   "metadata": {},
   "source": [
    "We can see that $\\sigma$ and $\\rho$ affect G negatively."
   ]
  },
  {
   "cell_type": "code",
   "execution_count": 188,
   "metadata": {},
   "outputs": [
    {
     "name": "stdout",
     "output_type": "stream",
     "text": [
      "For Set 1: G = 1.000\n",
      "For Set 2: G = 1.170\n"
     ]
    },
    {
     "name": "stderr",
     "output_type": "stream",
     "text": [
      "C:\\Users\\Bruger\\AppData\\Local\\Temp\\ipykernel_15424\\1282166850.py:12: RuntimeWarning: invalid value encountered in power\n",
      "  return ((((alpha * (kappa + (1 - tau) * w * L) ** ((sigma - 1) / sigma) +\n",
      "c:\\Users\\Bruger\\anaconda3\\Ny mappe\\lib\\site-packages\\scipy\\optimize\\_minpack_py.py:178: RuntimeWarning: The iteration is not making good progress, as measured by the \n",
      "  improvement from the last ten iterations.\n",
      "  warnings.warn(msg, RuntimeWarning)\n",
      "C:\\Users\\Bruger\\AppData\\Local\\Temp\\ipykernel_15424\\1282166850.py:13: RuntimeWarning: overflow encountered in power\n",
      "  (1 - alpha) * G ** (sigma / (sigma - 1))) ** (sigma / (sigma - 1)))**(1 - rho)) - 1) / (1-rho) - nu * (L ** (1 + epsilon) / (1 + epsilon))\n",
      "C:\\Users\\Bruger\\AppData\\Local\\Temp\\ipykernel_15424\\1282166850.py:12: RuntimeWarning: overflow encountered in power\n",
      "  return ((((alpha * (kappa + (1 - tau) * w * L) ** ((sigma - 1) / sigma) +\n",
      "c:\\Users\\Bruger\\anaconda3\\Ny mappe\\lib\\site-packages\\scipy\\optimize\\_minpack_py.py:178: RuntimeWarning: The iteration is not making good progress, as measured by the \n",
      "  improvement from the last five Jacobian evaluations.\n",
      "  warnings.warn(msg, RuntimeWarning)\n"
     ]
    }
   ],
   "source": [
    "from scipy.optimize import fsolve\n",
    "\n",
    "# Optimal tax rate from question 4\n",
    "tau_star = 0.33\n",
    "\n",
    "# Define the function to solve\n",
    "def solve_G(G, tau):\n",
    "    w_tilde = (1 - tau) * w\n",
    "    \n",
    "    # Define the function for the optimal labor supply\n",
    "    def labor_supply(L):\n",
    "        return ((((alpha * (kappa + (1 - tau) * w * L) ** ((sigma - 1) / sigma) +\n",
    "                (1 - alpha) * G ** (sigma / (sigma - 1))) ** (sigma / (sigma - 1)))**(1 - rho)) - 1) / (1-rho) - nu * (L ** (1 + epsilon) / (1 + epsilon))\n",
    "    \n",
    "    # Solve for the optimal labor supply L_star\n",
    "    L_star = fsolve(labor_supply, 10)[0]\n",
    "    \n",
    "    # Calculate the implied G\n",
    "    implied_G = tau * w * L_star*((1-tau)*w)\n",
    "    \n",
    "    return implied_G - G\n",
    "\n",
    "# Set 1 parameters\n",
    "sigma_set1 = 1.001\n",
    "rho_set1 = 1.001\n",
    "epsilon_set1 = 1.0\n",
    "\n",
    "# Set 2 parameters\n",
    "sigma_set2 = 1.5\n",
    "rho_set2 = 1.5\n",
    "epsilon_set2 = 1.0\n",
    "\n",
    "# Calculate G for set 1\n",
    "sigma = sigma_set1\n",
    "rho = rho_set1\n",
    "epsilon = epsilon_set1\n",
    "\n",
    "# Solve for G using fsolve\n",
    "G_solution_set1 = fsolve(solve_G, 1.0, args=(tau_star,))\n",
    "\n",
    "# Calculate G for set 2\n",
    "sigma = sigma_set2\n",
    "rho = rho_set2\n",
    "epsilon = epsilon_set2\n",
    "\n",
    "# Solve for G using fsolve\n",
    "G_solution_set2 = fsolve(solve_G, 1.0, args=(tau_star,))\n",
    "\n",
    "# Print the results\n",
    "print(f\"For Set 1: G = {G_solution_set1[0]:.3f}\")\n",
    "print(f\"For Set 2: G = {G_solution_set2[0]:.3f}\")\n"
   ]
  },
  {
   "attachments": {},
   "cell_type": "markdown",
   "metadata": {},
   "source": [
    "We see that as sigma and rho increases G increases."
   ]
  },
  {
   "attachments": {},
   "cell_type": "markdown",
   "metadata": {},
   "source": [
    "**Question 6:** Find the socially optimal tax rate, $\\tau^{\\star}$, maximizing worker utility, while keeping $G = \\tau w L^{\\star}((1-\\tau)w,G)$."
   ]
  },
  {
   "cell_type": "code",
   "execution_count": 189,
   "metadata": {},
   "outputs": [
    {
     "name": "stdout",
     "output_type": "stream",
     "text": [
      "Set 1:\n",
      "Socially Optimal Tax Rate (τ*): 0.4998484913858866\n",
      "Worker Utility: 999.9843400059689\n",
      "\n",
      "Set 2:\n",
      "Socially Optimal Tax Rate (τ*): 0.4978227342887012\n",
      "Worker Utility: 1.829528477141957\n"
     ]
    },
    {
     "name": "stderr",
     "output_type": "stream",
     "text": [
      "C:\\Users\\Bruger\\AppData\\Local\\Temp\\ipykernel_15424\\1048021157.py:10: RuntimeWarning: overflow encountered in double_scalars\n",
      "  (1 - alpha) * G ** (sigma / (sigma - 1))) ** (sigma / (sigma - 1)))**(1 - rho)) - 1) / (1-rho) - nu * (L ** (1 + epsilon) / (1 + epsilon))\n",
      "C:\\Users\\Bruger\\AppData\\Local\\Temp\\ipykernel_15424\\1048021157.py:9: RuntimeWarning: overflow encountered in double_scalars\n",
      "  return ((((alpha * C ** ((sigma - 1) / sigma) +\n"
     ]
    }
   ],
   "source": [
    "from scipy.optimize import minimize_scalar\n",
    "\n",
    "# Utility function\n",
    "def utility(tau, sigma, rho, epsilon, alpha, kappa, nu, w):\n",
    "    # Labor supply function\n",
    "    def labor_supply(L):\n",
    "        C = kappa + (1 - tau) * w * L\n",
    "        G = tau * w * L*((1-tau)*w)\n",
    "        return ((((alpha * C ** ((sigma - 1) / sigma) +\n",
    "                (1 - alpha) * G ** (sigma / (sigma - 1))) ** (sigma / (sigma - 1)))**(1 - rho)) - 1) / (1-rho) - nu * (L ** (1 + epsilon) / (1 + epsilon))\n",
    "\n",
    "    result = minimize_scalar(lambda L: -labor_supply(L), bounds=(0, 24), method='bounded')\n",
    "    if result.success:\n",
    "        L_star = result.x\n",
    "        G_star = tau * w * L*((1-tau)*w)\n",
    "        return labor_supply(L_star), L_star, G_star\n",
    "    else:\n",
    "        raise ValueError(\"Optimization failed.\")\n",
    "\n",
    "# Baseline parameters\n",
    "alpha = 0.5\n",
    "kappa = 1.0\n",
    "nu = 1 / (2 * 16**2)\n",
    "w = 1.0\n",
    "\n",
    "# Set 1 parameters\n",
    "sigma1 = 1.001\n",
    "rho1 = 1.001\n",
    "epsilon1 = 1.0\n",
    "\n",
    "# Solve for socially optimal tax rate for Set 1\n",
    "result_set1 = minimize_scalar(lambda tau: -utility(tau, sigma1, rho1, epsilon1, alpha, kappa, nu, w)[0], bounds=(0, 1), method='bounded')\n",
    "tau_star_set1 = result_set1.x\n",
    "utility_set1, L_star_set1, G_star_set1 = utility(tau_star_set1, sigma1, rho1, epsilon1, alpha, kappa, nu, w)\n",
    "\n",
    "# Set 2 parameters\n",
    "sigma2 = 1.5\n",
    "rho2 = 1.5\n",
    "epsilon2 = 1.0\n",
    "\n",
    "# Solve for socially optimal tax rate for Set 2\n",
    "result_set2 = minimize_scalar(lambda tau: -utility(tau, sigma2, rho2, epsilon2, alpha, kappa, nu, w)[0], bounds=(0, 1), method='bounded')\n",
    "tau_star_set2 = result_set2.x\n",
    "utility_set2, L_star_set2, G_star_set2 = utility(tau_star_set2, sigma2, rho2, epsilon2, alpha, kappa, nu, w)\n",
    "\n",
    "print(\"Set 1:\")\n",
    "print(\"Socially Optimal Tax Rate (τ*):\", tau_star_set1)\n",
    "print(\"Worker Utility:\", utility_set1)\n",
    "\n",
    "print(\"\\nSet 2:\")\n",
    "print(\"Socially Optimal Tax Rate (τ*):\", tau_star_set2)\n",
    "print(\"Worker Utility:\", utility_set2)\n"
   ]
  },
  {
   "attachments": {},
   "cell_type": "markdown",
   "metadata": {},
   "source": [
    "We get that the social optimal tax rate is 0,4998 for set 1 and 0,4978 for set 2, which is larger than the tax value than in the past problem."
   ]
  },
  {
   "attachments": {},
   "cell_type": "markdown",
   "metadata": {},
   "source": [
    "## 2. <a id='toc2_'></a>[Problem 2: Labor adjustment costs](#toc0_)"
   ]
  },
  {
   "attachments": {},
   "cell_type": "markdown",
   "metadata": {},
   "source": [
    "You own a hair salon. You employ hairdressers, $\\ell_t$, to produce haircuts, $y_t = \\ell_t$.\n",
    "\n",
    "The wage for each haridresser is $w$.\n",
    "\n",
    "The demand for haircuts implies that the price of haircuts you can charge is $p_t = \\kappa_t y_t^{-\\eta}$, where $\\kappa_t$ is a demand-shock and $\\eta \\in (0,1)$ measures the elasticity of demand.\n",
    "\n",
    "Profits are:\n",
    "\n",
    "$$\n",
    "\\Pi_t = p_t y_t - w \\ell_t = \\kappa_t \\ell_t^{1-\\eta} - w \\ell_t\n",
    "$$"
   ]
  },
  {
   "attachments": {},
   "cell_type": "markdown",
   "metadata": {},
   "source": [
    "Baseline parameters are:\n",
    "- $\\eta = 0.5$\n",
    "- $w = 1.0$"
   ]
  },
  {
   "attachments": {},
   "cell_type": "markdown",
   "metadata": {},
   "source": [
    "**Question 1:** Verify numerically that $\\ell_{t}=\\left(\\frac{(1-\\eta)\\kappa_{t}}{w}\\right)^{\\frac{1}{\\eta}}$ maximises profits, for $\\kappa\\in\\left\\{1.0 , 2.0\\right\\}$."
   ]
  },
  {
   "cell_type": "code",
   "execution_count": 207,
   "metadata": {},
   "outputs": [],
   "source": [
    "w,eta,kappa,l_t, p_t, y_t=sm.symbols('w eta kappa l_t p_t y_t')"
   ]
  },
  {
   "cell_type": "code",
   "execution_count": 208,
   "metadata": {},
   "outputs": [],
   "source": [
    "def solow_l_function(w: float, eta:float, l_t: float, p_t:float, y_t: float) -> float:\n",
    "    #Returning transition equation for physical capital:\n",
    "\n",
    "    return (((1-eta)*kappa)/w)**(1/eta)"
   ]
  },
  {
   "cell_type": "code",
   "execution_count": 209,
   "metadata": {},
   "outputs": [],
   "source": [
    "func = lambda x: [solow_l_function(x[1],w,eta,l_t,p_t,y_t,x[0])]\n"
   ]
  },
  {
   "cell_type": "code",
   "execution_count": 190,
   "metadata": {},
   "outputs": [],
   "source": [
    "#Define the paramters \n",
    "kappas=[1.0,2.0]\n",
    "eta=0.5\n",
    "w=1.0"
   ]
  },
  {
   "cell_type": "code",
   "execution_count": 194,
   "metadata": {},
   "outputs": [
    {
     "name": "stdout",
     "output_type": "stream",
     "text": [
      "Kappa = 1.0:\n",
      "optimal level of l_t: 0.25\n",
      "max profit: 0.0\n",
      "\n",
      "Kappa = 2.0:\n",
      "optimal level of l_t: 1.0\n",
      "max profit: 1.0\n",
      "\n"
     ]
    }
   ],
   "source": [
    "#Find the optimal \n",
    "for kappa in kappas:\n",
    "    ell=((1-eta)*kappa/w)**(1/eta)\n",
    "    p=kappa*l**(1-eta)-w*l\n",
    "    print(f\"Kappa = {kappa}:\")\n",
    "    print(f\"optimal level of l_t: {ell}\")\n",
    "    print(f\"max profit: {p}\\n\")"
   ]
  },
  {
   "attachments": {},
   "cell_type": "markdown",
   "metadata": {},
   "source": [
    "We now consider a *dynamic* version of the model.\n",
    "\n",
    "* The demand-shock is a so-called AR(1) in logs, \n",
    "\n",
    "$$\n",
    "\\log \\kappa_{t} = \\rho \\log \\kappa_{t-1} + \\epsilon_{t},\\,\\,\\, \\epsilon_{t+1} \\sim \\mathcal{N}(-0.5\\sigma_{\\epsilon}^2,\\sigma_{\\epsilon})\n",
    "$$\n",
    "\n",
    "* Any hiring or firing implies a fixed adjustment cost, $\\iota > 0 $.\n",
    "* Future profits are discounted with a monthly factor of $R \\in (0,1)$.\n",
    "\n",
    "The initial demand shock is $\\kappa_{-1} = 1$ and the planning horizon is 10 years, i.e. 120 months so $t \\in \\{0,1,2,\\dots,119\\}$. Initially you don't have any employees, $\\ell_{-1}=0$"
   ]
  },
  {
   "attachments": {},
   "cell_type": "markdown",
   "metadata": {},
   "source": [
    "\n",
    "The *ex post* value of the salon is *conditional* on the shock series is:\n",
    "\n",
    "$$\n",
    "h(\\epsilon_0,\\epsilon_1,\\dots,\\epsilon_{119}) = \\left[\\sum_{t=0}^{119}R^{-t}\\left[\\kappa_{t}\\ell_{t}^{1-\\eta}-w\\ell_{t}-\\boldsymbol{1}_{\\ell_{t}\\neq\\ell_{t-1}}\\iota\\right]\\right]\n",
    "$$\n",
    "\n",
    "The *ex ante* expected value of the salon can be approximated by\n",
    "\n",
    "$$\n",
    "H = \\mathbb{E}[h(\\epsilon_0,\\epsilon_1,\\dots,\\epsilon_{119})] \\approx \\frac{1}{K}\\sum_{k=0}^{K-1} h(\\epsilon_0^k,\\epsilon_1^k,\\dots,\\epsilon_{119}^k)\n",
    "$$\n",
    "\n",
    "where each $k\\in\\{0,1,\\dots,K-1\\}$ is a random shock series. Maximizing profitability means maximizing $H$.\n"
   ]
  },
  {
   "attachments": {},
   "cell_type": "markdown",
   "metadata": {},
   "source": [
    "Baseline parameters are: \n",
    "\n",
    "- $\\rho = 0.90$\n",
    "- $\\iota = 0.01$\n",
    "- $\\sigma_{\\epsilon} = 0.10$\n",
    "- $R = \\left(1+0.01\\right)^{1/12}$"
   ]
  },
  {
   "attachments": {},
   "cell_type": "markdown",
   "metadata": {},
   "source": [
    "**Question 2:** Calculate $H$ if the policy  $\\ell_{t}=\\left(\\frac{(1-\\eta)\\kappa_{t}}{w}\\right)^{\\frac{1}{\\eta}}$ from question 1 is followed. Choose $K$ so the approximation is good enough to not affect your results substantially."
   ]
  },
  {
   "cell_type": "code",
   "execution_count": 192,
   "metadata": {},
   "outputs": [],
   "source": [
    "#define the parameters in the model for the salon \n",
    "eta=0.5\n",
    "w=1.0\n",
    "rho=0.9\n",
    "iota=0.01\n",
    "sigma_epsilon=0.1\n",
    "R=(1+0.01)**(1/12)\n",
    "T=120\n",
    "K=10000"
   ]
  },
  {
   "attachments": {},
   "cell_type": "markdown",
   "metadata": {},
   "source": [
    "Now we can start define the function h and we have set K to a value"
   ]
  },
  {
   "cell_type": "code",
   "execution_count": 196,
   "metadata": {},
   "outputs": [],
   "source": [
    "def calculate_h(shocks):\n",
    "    kappa=np.zeros(T)\n",
    "    ell=np.zeros(T)\n",
    "    profit=np.zeros(T)\n",
    "    h_value=0.0\n",
    "    \n",
    "    for t in range(T):\n",
    "        if t==0:\n",
    "            kappa[t]=np.exp(-0.5*sigma_epsilon**2+shocks[t])\n",
    "        else :\n",
    "            kappa[t]=np.exp(rho*np.log(kappa[t-1])+shocks[t])\n",
    "                            \n",
    "        ell[t]=((1-eta)*kappa[t]/[w])**(1/eta)\n",
    "        profit[t]=kappa[t]*ell[t]**(1-eta)-w*ell[t]\n",
    "        if t>0 and ell[t]!=ell[t-1]:\n",
    "            profit[t]-=iota\n",
    "        h_value += R**(-t)*profit[t]\n",
    "    return h_value"
   ]
  },
  {
   "cell_type": "code",
   "execution_count": 197,
   "metadata": {},
   "outputs": [],
   "source": [
    "# Now we look at number of shock series\n",
    "\n",
    "np.random.seed(0)\n",
    "shock_series = np.random.normal(-0.5*sigma_epsilon**2,sigma_epsilon, size=(K,T))"
   ]
  },
  {
   "attachments": {},
   "cell_type": "markdown",
   "metadata": {},
   "source": [
    "Now we will calculate the expected value of the salon "
   ]
  },
  {
   "cell_type": "code",
   "execution_count": 198,
   "metadata": {},
   "outputs": [
    {
     "name": "stdout",
     "output_type": "stream",
     "text": [
      "[27.725552255745804]\n"
     ]
    }
   ],
   "source": [
    "# Find the value of H\n",
    "H=np. mean([calculate_h(shocks) for shocks in shock_series])\n",
    "print([H])"
   ]
  },
  {
   "attachments": {},
   "cell_type": "markdown",
   "metadata": {},
   "source": [
    "We have calculate the H value to 27.73. if we choose a large value for K we get a more precise approximation for our expected value. "
   ]
  },
  {
   "attachments": {},
   "cell_type": "markdown",
   "metadata": {},
   "source": [
    "Next, we consider policies on the form:\n",
    "\n",
    "$$\n",
    "\n",
    "\\ell_{t}=\\begin{cases}\n",
    "\\ell_t^{\\ast}  & \\text{if }\\left|\\ell_{t-1}-\\ell_t^{\\ast} \\right|>\\Delta\\\\\n",
    "\\ell_{t-1} & \\text{else }\n",
    "\\end{cases}\n",
    "\\\\\n",
    "\\text{where}\\,\\,\\ell_t^{\\ast} = \\left(\\frac{(1-\\eta)\\kappa_{t}}{w}\\right)^{\\frac{1}{\\eta}} \\\\\n",
    "\n",
    "$$\n",
    "With $\\Delta \\geq 0$ and $\\Delta = 0$ being the previous policy.\n"
   ]
  },
  {
   "attachments": {},
   "cell_type": "markdown",
   "metadata": {},
   "source": [
    "\n",
    "**Question 3:** Calculate $H$ if the policy above was followed with $\\Delta = 0.05$. Does it improve profitability?"
   ]
  },
  {
   "attachments": {},
   "cell_type": "markdown",
   "metadata": {},
   "source": [
    "Now we will calculate H with policies and the shocks series and we will hold Delta =  0.05"
   ]
  },
  {
   "cell_type": "code",
   "execution_count": null,
   "metadata": {},
   "outputs": [],
   "source": [
    "# Define the value of Delta\n",
    "delta =0.05"
   ]
  },
  {
   "cell_type": "code",
   "execution_count": 199,
   "metadata": {},
   "outputs": [],
   "source": [
    "# define the value of h give the value of Delta and policies\n",
    "\n",
    "def calculate_h(shocks, delta):\n",
    "    kappa = np.zeros(T)\n",
    "    ell = np.zeros(T)\n",
    "    profit = np.zeros(T)\n",
    "    h_value = 0.0\n",
    "\n",
    "    for t in range(T):\n",
    "        if t == 0:\n",
    "            kappa[t] = np.exp(-0.5 * sigma_epsilon ** 2 + shocks[t])\n",
    "        else:\n",
    "            kappa[t] = np.exp(rho * np.log(kappa[t - 1]) + shocks[t])\n",
    "        \n",
    "        ell_star = ((1 - eta) * kappa[t] / w) ** (1 / eta)\n",
    "\n",
    "        if t > 0 and abs(ell[t - 1] - ell_star) > delta:\n",
    "            ell[t] = ell_star\n",
    "        else:\n",
    "            ell[t] = ell[t - 1]\n",
    "\n",
    "        profit[t] = kappa[t] * ell[t] ** (1 - eta) - w * ell[t]\n",
    "\n",
    "        if t > 0 and ell[t] != ell[t - 1]:\n",
    "            profit[t] -= iota\n",
    "\n",
    "        h_value += R ** (-t) * profit[t]\n",
    "\n",
    "    return h_value\n"
   ]
  },
  {
   "attachments": {},
   "cell_type": "markdown",
   "metadata": {},
   "source": [
    "As we did in the last question we will simulate the series of shocks to the new policies"
   ]
  },
  {
   "cell_type": "code",
   "execution_count": 200,
   "metadata": {},
   "outputs": [],
   "source": [
    "#shock series\n",
    "np.random.seed(0)\n",
    "shock_series=np.random.normal(-0.5*sigma_epsilon**2,sigma_epsilon, size = (K,T))"
   ]
  },
  {
   "attachments": {},
   "cell_type": "markdown",
   "metadata": {},
   "source": [
    "Agian we will find the value of H and after we wil compare it to the value we got in question 2"
   ]
  },
  {
   "cell_type": "code",
   "execution_count": 201,
   "metadata": {},
   "outputs": [
    {
     "name": "stdout",
     "output_type": "stream",
     "text": [
      "{28.149628094339143}\n",
      "{0.42407583859333897}\n"
     ]
    }
   ],
   "source": [
    "# finde the new H\n",
    "H_policy= np.mean([calculate_h(shocks, delta) for shocks in shock_series])\n",
    "\n",
    "#profitability improvment to the other value of H\n",
    "improvement_1= H_policy -H\n",
    "\n",
    "print({H_policy})\n",
    "print({improvement_1})"
   ]
  },
  {
   "attachments": {},
   "cell_type": "markdown",
   "metadata": {},
   "source": [
    "With the value of $\\Delta=0.05$ we have H to 28.15 and we have an imporvement in protability on 0.42. os if we compared to the value we found in when $\\Delta=0$. we have an improvement so the new policy is a substantailly impove to profitability."
   ]
  },
  {
   "attachments": {},
   "cell_type": "markdown",
   "metadata": {},
   "source": [
    "**Question 4:** Find the optimal $\\Delta$ maximizing $H$. Illustrate your result."
   ]
  },
  {
   "cell_type": "code",
   "execution_count": 202,
   "metadata": {},
   "outputs": [
    {
     "name": "stdout",
     "output_type": "stream",
     "text": [
      "Optimal Delta: 0.07551138070972771\n",
      "Optimal H: 27.129721409984377\n"
     ]
    }
   ],
   "source": [
    "from scipy.optimize import minimize_scalar\n",
    "K = 100\n",
    "\n",
    "#Define the function for h includning the shock series and policy\n",
    "def calculate_h(shocks, delta):\n",
    "    kappa = np.zeros(T)\n",
    "    ell = np.zeros(T)\n",
    "    profit = np.zeros(T)\n",
    "    h_value = 0.0\n",
    "\n",
    "    for t in range(T):\n",
    "        if t == 0:\n",
    "            kappa[t] = np.exp(-0.5 * sigma_epsilon ** 2 + shocks[t])\n",
    "        else:\n",
    "            kappa[t] = np.exp(rho * np.log(kappa[t - 1]) + shocks[t])\n",
    "\n",
    "        ell_star = ((1 - eta) * kappa[t] / w) ** (1 / eta)\n",
    "\n",
    "        if t > 0 and abs(ell[t - 1] - ell_star) > delta:\n",
    "            ell[t] = ell_star\n",
    "        else:\n",
    "            ell[t] = ell[t - 1]\n",
    "\n",
    "        profit[t] = kappa[t] * ell[t] ** (1 - eta) - w * ell[t]\n",
    "\n",
    "        if t > 0 and ell[t] != ell[t - 1]:\n",
    "            profit[t] -= iota\n",
    "\n",
    "        h_value += R ** (-t) * profit[t]\n",
    "\n",
    "    return h_value\n",
    "\n",
    "# For Maximize the function we use the object function\n",
    "def objective(delta):\n",
    "    np.random.seed(0)\n",
    "    shock_series = np.random.normal(-0.5 * sigma_epsilon ** 2, sigma_epsilon, size=(K, T))\n",
    "    h_values = [calculate_h(shocks, delta) for shocks in shock_series]\n",
    "    return -np.mean(h_values)\n",
    "\n",
    "# Find the optimal delta\n",
    "result = minimize_scalar(objective, bounds=(0, 0.1), method='bounded')\n",
    "optimal_delta = result.x\n",
    "optimal_H = -result.fun\n",
    "\n",
    "print(f\"Optimal Delta: {optimal_delta}\")\n",
    "print(f\"Optimal H: {optimal_H}\")"
   ]
  },
  {
   "cell_type": "code",
   "execution_count": 203,
   "metadata": {},
   "outputs": [],
   "source": [
    "# define values of Delta and \n",
    "delta_V= np.linspace(0,0.1,100)\n",
    "H_V=[-objective(delta) for delta in delta_V]"
   ]
  },
  {
   "cell_type": "code",
   "execution_count": 205,
   "metadata": {},
   "outputs": [
    {
     "data": {
      "image/png": "[encoded data removed]",
      "text/plain": [
       "<Figure size 640x480 with 1 Axes>"
      ]
     },
     "metadata": {},
     "output_type": "display_data"
    },
    {
     "name": "stdout",
     "output_type": "stream",
     "text": [
      "Optimal Delta: 0.07551138070972771\n",
      "Optimal H: 27.129721409984377\n"
     ]
    }
   ],
   "source": [
    "#Plot\n",
    "plt.plot(delta_V, H_V)\n",
    "plt.scatter(optimal_delta, optimal_H, color='red', label='Optimal Delta')\n",
    "plt.xlabel('Delta')\n",
    "plt.ylabel('Objective Function')\n",
    "plt.title('Plot of the optimal delta')\n",
    "plt.legend()\n",
    "plt.grid(True)\n",
    "plt.show()\n",
    "\n",
    "print(f\"Optimal Delta: {optimal_delta}\")\n",
    "print(f\"Optimal H: {optimal_H}\")"
   ]
  },
  {
   "attachments": {},
   "cell_type": "markdown",
   "metadata": {},
   "source": [
    "On the firgue can we see the optimal Delta plottet agianst the H value. We also found the optimal $\\Delta$=0.0755 and the optimal H=27.1297"
   ]
  },
  {
   "attachments": {},
   "cell_type": "markdown",
   "metadata": {},
   "source": [
    "\n",
    "**Question 5:** Suggest an alternative policy you believe might improve profitability. Implement and test your policy.\n",
    "\n"
   ]
  },
  {
   "attachments": {},
   "cell_type": "markdown",
   "metadata": {},
   "source": [
    "An alternative policy would possibly be to improve profits by adjusting the number of hairdressers. We willl based it on the current demand shock but also demand shock from the past.\n",
    "\n",
    "We use folowing equation to adjust the number of hairdressers\n",
    "$l_t=(1-\\gamma) \\cdot l_{(t-1)}+\\gamma \\cdot l_t^*$ and we use $l_{t}^*$"
   ]
  },
  {
   "attachments": {},
   "cell_type": "markdown",
   "metadata": {},
   "source": [
    "First we define the parameters in our alternative policy"
   ]
  },
  {
   "cell_type": "code",
   "execution_count": null,
   "metadata": {},
   "outputs": [],
   "source": [
    "#define parameers\n",
    "n=12\n",
    "gamma=0.1\n",
    "K=1000"
   ]
  },
  {
   "attachments": {},
   "cell_type": "markdown",
   "metadata": {},
   "source": [
    "We use the same procedure as before to find the value of H"
   ]
  },
  {
   "cell_type": "code",
   "execution_count": null,
   "metadata": {},
   "outputs": [],
   "source": [
    "\n",
    "# Function to calculate h given shock series and alternative policy\n",
    "def calculate_h(shocks, gamma, n):\n",
    "    kappa = np.zeros(T)\n",
    "    ell = np.zeros(T)\n",
    "    profit = np.zeros(T)\n",
    "    h_value = 0.0\n",
    "\n",
    "    for t in range(T):\n",
    "        if t == 0:\n",
    "            kappa[t] = np.exp(-0.5 * sigma_epsilon ** 2 + shocks[t])\n",
    "        else:\n",
    "            kappa[t] = np.exp(rho * np.log(kappa[t - 1]) + shocks[t])\n",
    "\n",
    "        if t >= n:\n",
    "            average_kappa = np.mean(kappa[t - n + 1 : t + 1])\n",
    "        else:\n",
    "            average_kappa = np.mean(kappa[:t + 1])\n",
    "\n",
    "        ell_star = ((1 - eta) * average_kappa / w) ** (1 / eta)\n",
    "        ell[t] = (1 - gamma) * ell[t - 1] + gamma * ell_star\n",
    "\n",
    "        profit[t] = kappa[t] * ell[t] ** (1 - eta) - w * ell[t]\n",
    "\n",
    "        if t > 0 and ell[t] != ell[t - 1]:\n",
    "            profit[t] -= iota\n",
    "\n",
    "        h_value += R ** (-t) * profit[t]\n",
    "\n",
    "    return h_value\n",
    "\n",
    "# Simulate shock series\n",
    "np.random.seed(0)\n",
    "shock_series = np.random.normal(-0.5 * sigma_epsilon ** 2, sigma_epsilon, size=(K, T))\n",
    "\n",
    "# Calculate H with alternative policy\n",
    "H_alternative_policy = np.mean([calculate_h(shocks, gamma, n) for shocks in shock_series])\n",
    "\n"
   ]
  },
  {
   "cell_type": "code",
   "execution_count": null,
   "metadata": {},
   "outputs": [],
   "source": [
    "# Compare profitability and print the value of H in  the alternative model\n",
    "improvement_2 = H_alternative_policy - H\n",
    "improvment_3 = H_alternative_policy - H_policy\n",
    "\n",
    "print(f\"H Alternative: {H_alternative_policy}\")\n",
    "print({improvement_2})\n",
    "print({improvment_3})"
   ]
  },
  {
   "attachments": {},
   "cell_type": "markdown",
   "metadata": {},
   "source": [
    "We use our altnative policy over a large number of shocks. And we can that we get a value of the salon to 26,13. we can compare this value to the value of to question 1 and 2. We can see value of H i bigger in question 1 and 2.  \n",
    "\n",
    "WE can conclude that the alternative policy does not improve the profitability."
   ]
  },
  {
   "attachments": {},
   "cell_type": "markdown",
   "metadata": {},
   "source": [
    "## 3. <a id='toc3_'></a>[Problem 3: Global optimizer with refined multi-start](#toc0_)"
   ]
  },
  {
   "attachments": {},
   "cell_type": "markdown",
   "metadata": {},
   "source": [
    "We consider the Griewank function:\n",
    "\n",
    "$$ f(\\boldsymbol{x}) = \\sum^n_{i=1} \\frac{x^2_i}{4000}-\\prod^n_{i=1}\\cos\\left(\\frac{x_i}{\\sqrt{i}}\\right)+1$$\n",
    "\n",
    "The **global minimum** of this function is $f(0,0) = 0$ (remember: $\\cos(0)=1$).<br>\n",
    "But the function also have a lot of **local minima**."
   ]
  },
  {
   "cell_type": "code",
   "execution_count": null,
   "metadata": {},
   "outputs": [],
   "source": [
    "def griewank(x):\n",
    "    return griewank_(x[0],x[1])\n",
    "    \n",
    "def griewank_(x1,x2):\n",
    "    A = x1**2/4000 + x2**2/4000\n",
    "    B = np.cos(x1/np.sqrt(1))*np.cos(x2/np.sqrt(2))\n",
    "    return A-B+1"
   ]
  },
  {
   "attachments": {},
   "cell_type": "markdown",
   "metadata": {},
   "source": [
    "A **refined global optimizer with multi-start** is:\n",
    "\n",
    "1. Choose *bounds* for $\\mathbf{x}$ and *tolerance* $\\tau > 0$.\n",
    "2. Choose number of *warm-up iterations*, $\\underline{K} > 0$ and *maximum number of iterations*, $K > \\underline{K}$.\n",
    "3. In each iteration for $k \\in \\{0,1,\\dots,K-1\\}$:\n",
    "\n",
    "    A. Draw random $\\mathbf{x}^k$ uniformly within chosen bounds.\n",
    "\n",
    "    B. If $k < \\underline{K}$ go to step E.\n",
    "\n",
    "    C. Calculate $\\chi^k = 0.50\\cdot\\frac{2}{1+\\exp((k-\\underline{K})/100)}$  \n",
    "\n",
    "    D. Set $\\mathbf{x}^{k0} = \\chi^k \\mathbf{x}^k + (1-\\chi^k)\\mathbf{x}^{\\ast} $\n",
    "\n",
    "    E. Run optimizer with $\\mathbf{x}^{k0}$ as initial guess and $\\mathbf{x}^{k\\ast}$ as result.\n",
    "\n",
    "    F. Set $\\mathbf{x}^{\\ast} = \\mathbf{x}^{k\\ast}$ if $k = 0$ or $f(\\mathbf{x}^{k\\ast}) < f(\\mathbf{x}^{\\ast})$\n",
    "\n",
    "    G. If $f(\\mathbf{x}^{\\ast}) < \\tau$ go to step 4.\n",
    "\n",
    "4. Return the result $\\mathbf{x}^{\\ast}$."
   ]
  },
  {
   "attachments": {},
   "cell_type": "markdown",
   "metadata": {},
   "source": [
    "As settings we choose:\n",
    "\n",
    "* $x_1,x_2 \\in  [-600,600]$\n",
    "* $\\tau = 10^{-8}$\n",
    "* $\\underline{K}=10$\n",
    "* $K=1000$\n",
    "\n",
    "The optimizer in Step 3.E is `BFGS` with a tolerance of $\\tau$."
   ]
  },
  {
   "attachments": {},
   "cell_type": "markdown",
   "metadata": {},
   "source": [
    "**Question 1:** Implement the refined global optimizer with multi-start. Illustrate how the effective initial guesses $\\mathbf{x}^{k0}$ vary with the iteration counter $k$."
   ]
  },
  {
   "cell_type": "code",
   "execution_count": null,
   "metadata": {},
   "outputs": [],
   "source": [
    "import numpy as np\n",
    "from scipy.optimize import minimize\n",
    "\n",
    "def griewank(x):\n",
    "    return griewank_(x[0], x[1])\n",
    "    \n",
    "def griewank_(x1, x2):\n",
    "    A = x1**2/4000 + x2**2/4000\n",
    "    B = np.cos(x1/np.sqrt(1)) * np.cos(x2/np.sqrt(2))\n",
    "    return A - B + 1\n",
    "\n",
    "def refined_global_optimizer(bounds, tolerance, warmup_iterations, max_iterations):\n",
    "    x_best = None\n",
    "    f_best = None\n",
    "    \n",
    "    for k in range(max_iterations):\n",
    "        # Step 3.A\n",
    "        x_k = np.random.uniform(bounds[0], bounds[1], size=2)\n",
    "        \n",
    "        # Step 3.B \n",
    "        if k >= warmup_iterations:\n",
    "            # Step 3.C\n",
    "            chi_k = 0.50 * 2 / (1 + np.exp((k - warmup_iterations) / 100))\n",
    "            #Step 3.D\n",
    "            x_k0 = chi_k * x_k + (1 - chi_k) * x_best\n",
    "            # Step 3.E\n",
    "            result = minimize(griewank, x_k0, method='BFGS', tol=tolerance)\n",
    "            x_k_star = result.x\n",
    "            f_k_star = result.fun\n",
    "            \n",
    "            # Step 3.F\n",
    "            if x_best is None or f_k_star < f_best:\n",
    "                x_best = x_k_star\n",
    "                f_best = f_k_star\n",
    "            \n",
    "            # Step 3.G\n",
    "            if f_best < tolerance:\n",
    "                break\n",
    "    # Step 4\n",
    "    return x_best\n",
    "\n",
    "# Step 1 \n",
    "# Step 2\n",
    "bounds = [-600, 600]\n",
    "tolerance = 1e-8\n",
    "warmup_iterations = 10\n",
    "max_iterations = 1000\n",
    "\n",
    "# Running the optimizer\n",
    "results = []\n",
    "for k in range(max_iterations):\n",
    "    x_k = np.random.uniform(bounds[0], bounds[1], size=2)\n",
    "    results.append(x_k)\n",
    "\n",
    "# Plotting the variation of effective initial guesses\n",
    "import matplotlib.pyplot as plt\n",
    "\n",
    "x_values = [x[0] for x in results]\n",
    "y_values = [x[1] for x in results]\n",
    "\n",
    "plt.scatter(x_values, y_values, c='blue', marker='o')\n",
    "plt.xlabel('x1')\n",
    "plt.ylabel('x2')\n",
    "plt.title('Variation of Effective Initial Guesses')\n",
    "plt.grid(True)\n",
    "plt.show()\n"
   ]
  },
  {
   "attachments": {},
   "cell_type": "markdown",
   "metadata": {},
   "source": [
    "**Question 2:** Is it a better idea to set $\\underline{K} = 100$? Is the convergence faster?"
   ]
  },
  {
   "cell_type": "code",
   "execution_count": null,
   "metadata": {},
   "outputs": [],
   "source": [
    "from scipy.optimize import minimize, Bounds\n",
    "import matplotlib.pyplot as plt\n",
    "\n",
    "def griewank(x):\n",
    "    return griewank_(x[0], x[1])\n",
    "\n",
    "def griewank_(x1, x2):\n",
    "    A = x1**2/4000 + x2**2/4000\n",
    "    B = np.cos(x1/np.sqrt(1))*np.cos(x2/np.sqrt(2))\n",
    "    return A - B + 1\n",
    "\n",
    "def refined_global_optimizer(bounds, tolerance, K_warmup, K_max):\n",
    "    x_best = None\n",
    "    f_best = np.inf\n",
    "    # Initialize with a valid value\n",
    "    x_ast = np.random.uniform(bounds[0], bounds[1], 2)  \n",
    "    \n",
    "    x0_values = []\n",
    "    f_values = []\n",
    "    \n",
    "    for k in range(K_max):\n",
    "        # Step 3.A\n",
    "        x_k = np.random.uniform(bounds[0], bounds[1], 2)\n",
    "        x0_values.append(x_k)\n",
    "        \n",
    "        # Step 3.B \n",
    "        if k < K_warmup:\n",
    "            continue\n",
    "        \n",
    "        # Step 3.C\n",
    "        chi_k = 0.5 * 2 / (1 + np.exp((k - K_warmup) / 100))\n",
    "        # Step 3.D\n",
    "        x_k0 = chi_k * x_k + (1 - chi_k) * x_ast\n",
    "        \n",
    "        # Step 3.E\n",
    "        res = minimize(griewank, x_k0, method='BFGS', tol=tolerance)\n",
    "        x_k_ast = res.x\n",
    "        f_k_ast = res.fun\n",
    "        \n",
    "        # Step 3.F\n",
    "        if k == K_warmup or f_k_ast < f_best:\n",
    "            x_ast = x_k_ast\n",
    "            f_best = f_k_ast\n",
    "        \n",
    "        f_values.append(f_best)\n",
    "    # Step 4        \n",
    "    return x_ast, x0_values, f_values\n",
    "\n",
    "# Step 1\n",
    "# Step 2\n",
    "bounds = [-600, 600]\n",
    "tolerance = 1e-8\n",
    "K_warmup = 100\n",
    "K_max = 1000\n",
    "\n",
    "# Running the optimizer\n",
    "x_ast, x0_values, f_values = refined_global_optimizer(bounds, tolerance, K_warmup, K_max)\n",
    "\n",
    "# Plotting the effective initial guesses\n",
    "x0_values = np.array(x0_values)\n",
    "plt.scatter(x0_values[:, 0], x0_values[:, 1], c='blue', label='Initial Guesses')\n",
    "plt.scatter(x_ast[0], x_ast[1], c='red', label='Global Minimum')\n",
    "plt.xlabel('x1')\n",
    "plt.ylabel('x2')\n",
    "plt.legend()\n",
    "plt.title('Effective Initial Guesses')\n",
    "plt.show()\n",
    "\n",
    "# Plotting the convergence behavior\n",
    "plt.plot(f_values)\n",
    "plt.xlabel('Iteration')\n",
    "plt.ylabel('Objective Function Value')\n",
    "plt.title('Convergence Behavior')\n",
    "plt.show()\n"
   ]
  },
  {
   "attachments": {},
   "cell_type": "markdown",
   "metadata": {},
   "source": [
    "# 3D plot"
   ]
  },
  {
   "cell_type": "code",
   "execution_count": null,
   "metadata": {},
   "outputs": [],
   "source": [
    "from scipy.optimize import minimize\n",
    "from mpl_toolkits.mplot3d import Axes3D\n",
    "\n",
    "def griewank(x):\n",
    "    return griewank_(x[0], x[1])\n",
    "\n",
    "def griewank_(x1, x2):\n",
    "    A = x1**2 / 4000 + x2**2 / 4000\n",
    "    B = np.cos(x1 / np.sqrt(1)) * np.cos(x2 / np.sqrt(2))\n",
    "    return A - B + 1\n",
    "\n",
    "def refined_global_optimizer(bounds, tolerance, warmup_iters, max_iters):\n",
    "    best_x = None\n",
    "    best_f = float('inf')\n",
    "     # Initial x*\n",
    "    x_star = np.zeros(2) \n",
    "    x_k0_values = []\n",
    "\n",
    "    for k in range(max_iters):\n",
    "        if k >= warmup_iters:\n",
    "            chi = 0.5 * (2 / (1 + np.exp((k - warmup_iters) / 100)))\n",
    "            # Step 3.A\n",
    "            x_k = np.random.uniform(bounds[0], bounds[1])  \n",
    "            # Step 3.D\n",
    "            x_k0 = chi * x_k + (1 - chi) * x_star  \n",
    "        else:\n",
    "            # Step 3.A\n",
    "            x_k0 = np.random.uniform(bounds[0], bounds[1])  \n",
    "\n",
    "        # Store x_k0 for plotting\n",
    "        x_k0_values.append(x_k0)  \n",
    "\n",
    "        # Step 3.E\n",
    "        result = minimize(griewank, x_k0, method='BFGS', tol=tolerance)  \n",
    "\n",
    "        # Step 3.F\n",
    "        if result.fun < best_f:  \n",
    "            best_x = result.x\n",
    "            best_f = result.fun\n",
    "\n",
    "        x_star = best_x\n",
    "\n",
    "        # Step 3.G\n",
    "        if best_f < tolerance:  \n",
    "            break\n",
    "\n",
    "    return best_x, x_k0_values\n",
    "\n",
    "# Step 1 \n",
    "# Step 2\n",
    "bounds = np.array([[-600, 600], [-600, 600]])\n",
    "tolerance = 1e-8\n",
    "warmup_iters = 10\n",
    "max_iters = 1000\n",
    "\n",
    "# Running the optimizer\n",
    "x_star, x_k0_values = refined_global_optimizer(bounds, tolerance, warmup_iters, max_iters)\n",
    "\n",
    "# Extract x1 and x2 values from x_k0_values\n",
    "x_k0_values = np.array(x_k0_values)\n",
    "x1_values = x_k0_values[:, 0]\n",
    "x2_values = x_k0_values[:, 1]\n",
    "\n",
    "# Plot the effective initial guesses in 3D\n",
    "fig = plt.figure()\n",
    "ax = fig.add_subplot(111, projection='3d')\n",
    "ax.scatter(x1_values, x2_values, np.zeros_like(x1_values), c='b', label='Effective Initial Guesses')\n",
    "ax.scatter(x_star[0], x_star[1], 0, c='r', label='Optimal Solution')\n",
    "ax.set_xlabel('x1')\n",
    "ax.set_ylabel('x2')\n",
    "ax.set_zlabel('f(x)')\n",
    "ax.set_title('Effective Initial Guesses in 3D')\n",
    "ax.legend()\n",
    "plt.show()\n",
    "\n",
    "print(\"Optimal solution:\")\n",
    "print(\"x1 =\", x_star[0])\n",
    "print(\"x2 =\", x_star[1])\n",
    "print(\"f(x) =\", griewank(x_star))\n"
   ]
  },
  {
   "attachments": {},
   "cell_type": "markdown",
   "metadata": {},
   "source": [
    "The refined global optimizer with multi-start is a strategy used to solve the challenging Griewank function, which has both global and local minima. By exploring different initial guesses and utilizing a modified initial guess during the optimization process, the optimizer improves the chances of finding the global minimum. The blue points represents the effective initial guesses, while the red point represents the minima of the Griewank function and therefore is the optimal solution."
   ]
  },
  {
   "attachments": {},
   "cell_type": "markdown",
   "metadata": {},
   "source": [
    "# Comparing convergence "
   ]
  },
  {
   "cell_type": "code",
   "execution_count": null,
   "metadata": {},
   "outputs": [],
   "source": [
    "\n",
    "def refined_global_optimizer(bounds, tolerance, num_warmup, max_iterations):\n",
    "    best_solution = None\n",
    "    best_fitness = np.inf\n",
    "    convergence_iterations = []\n",
    "\n",
    "    for k in range(max_iterations):\n",
    "        x0 = np.random.uniform(bounds[0], bounds[1], size=(2,))\n",
    "\n",
    "        if k >= num_warmup:\n",
    "            chi_k = 0.50 * (2 / (1 + np.exp((k - num_warmup) / 100)))\n",
    "            x0 = chi_k * x0 + (1 - chi_k) * best_solution\n",
    "\n",
    "        result = minimize(griewank, x0, method='BFGS', tol=tolerance)\n",
    "        x_k_ast = result.x\n",
    "        f_k_ast = result.fun\n",
    "\n",
    "        if k == 0 or f_k_ast < best_fitness:\n",
    "            best_solution = x_k_ast\n",
    "            best_fitness = f_k_ast\n",
    "\n",
    "        convergence_iterations.append(best_fitness)\n",
    "\n",
    "        if best_fitness < tolerance:\n",
    "            break\n",
    "\n",
    "    return best_solution, convergence_iterations\n",
    "\n",
    "# Settings\n",
    "bounds = [-600, 600]\n",
    "tolerance = 1e-8\n",
    "num_warmup_10 = 10\n",
    "num_warmup_100 = 100\n",
    "max_iterations = 1000\n",
    "\n",
    "# Run the optimizer for num_warmup = 10\n",
    "best_solution_10, convergence_iterations_10 = refined_global_optimizer(bounds, tolerance, num_warmup_10, max_iterations)\n",
    "\n",
    "# Run the optimizer for num_warmup = 100\n",
    "best_solution_100, convergence_iterations_100 = refined_global_optimizer(bounds, tolerance, num_warmup_100, max_iterations)\n",
    "\n",
    "# Print the best solutions\n",
    "print(\"Best Solution (num_warmup = 10):\", best_solution_10)\n",
    "print(\"Best Solution (num_warmup = 100):\", best_solution_100)\n",
    "\n",
    "# Plot the convergence behavior\n",
    "import matplotlib.pyplot as plt\n",
    "\n",
    "plt.plot(range(len(convergence_iterations_10)), convergence_iterations_10, label='num_warmup = 10')\n",
    "plt.plot(range(len(convergence_iterations_100)), convergence_iterations_100, label='num_warmup = 100')\n",
    "plt.xlabel('Iteration')\n",
    "plt.ylabel('Fitness Value')\n",
    "plt.title('Convergence Behavior')\n",
    "plt.legend()\n",
    "plt.grid(True)\n",
    "plt.show()\n"
   ]
  },
  {
   "attachments": {},
   "cell_type": "markdown",
   "metadata": {},
   "source": [
    "A larger value of $\\underline{K}$ allows for more warm-up iterations, which helps to explore the search space and potentially find better initial solutions. This increased exploration in the early iterations can improve the chances of finding the global minimum faster. In this case these two values of $\\underline{K}$ does not make the biggest difference in the convergence process. \n",
    "\n",
    "From the figure we can see how the function converge with $\\underline{K}$ =10 and with $\\underline{K}$ =100."
   ]
  }
 ],
 "metadata": {
  "kernelspec": {
   "display_name": "base",
   "language": "python",
   "name": "python3"
  },
  "language_info": {
   "codemirror_mode": {
    "name": "ipython",
    "version": 3
   },
   "file_extension": ".py",
   "mimetype": "text/x-python",
   "name": "python",
   "nbconvert_exporter": "python",
   "pygments_lexer": "ipython3",
   "version": "3.9.16"
  },
  "orig_nbformat": 4
 },
 "nbformat": 4,
 "nbformat_minor": 2
}
